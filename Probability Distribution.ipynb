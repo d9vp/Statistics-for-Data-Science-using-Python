{
  "nbformat": 4,
  "nbformat_minor": 0,
  "metadata": {
    "colab": {
      "provenance": [],
      "collapsed_sections": []
    },
    "kernelspec": {
      "name": "python3",
      "display_name": "Python 3"
    },
    "language_info": {
      "name": "python"
    }
  },
  "cells": [
    {
      "cell_type": "code",
      "metadata": {
        "colab": {
          "base_uri": "https://localhost:8080/"
        },
        "id": "XVwkvDPBed3F",
        "outputId": "ccdda24f-3b8f-4ef0-8c98-67741b189017"
      },
      "source": [
        "import numpy as np\n",
        "import scipy\n",
        "import statistics as st\n",
        "import matplotlib.pyplot as plt\n",
        "import math\n",
        "from scipy.stats import binom\n",
        "N=800\n",
        "p_2d2c = binom.pmf(k=2,n=4,p=0.5)\n",
        "print(\"Probability of having 2 dogs and 2 cats =\",p_2d2c)\n",
        "print(\"Number of families from 800 having 2 dogs and 2 cats =\",int(p_2d2c*800))\n",
        "p_atleast1d = 1 - binom.pmf(k=0,n=4,p=0.5)\n",
        "print(\"\\n\\nProbability of family having atleast one dog =\",p_atleast1d)\n",
        "print(\"Number of families having atleast one dog =\",int(p_atleast1d*800))\n",
        "p_atmost2c = 1 - binom.pmf(k=0,n=4,p=0.5) - binom.pmf(k=1,n=4,p=0.5) \n",
        "print(\"\\n\\nProbability of families having atmost 2 cats =\",p_atmost2c)\n",
        "print(\"Number of families having atmost 2 cats =\",int(p_atmost2c*800))\n",
        "p_bothdandc= binom.pmf(k=0,n=4,p=0.5) + binom.pmf(k=4,n=4,p=0.5)\n",
        "print(\"\\n\\nProbability of families having a dog and a cat =\",p_bothdandc)\n",
        "print(\"Number of families having both dog and cat =\",int(p_bothdandc*800))"
      ],
      "execution_count": null,
      "outputs": [
        {
          "output_type": "stream",
          "name": "stdout",
          "text": [
            "Probability of having 2 dogd and 2 cats = 0.3750000000000001\n",
            "Number of families from 800 having 2 dogs and 2 cats = 300\n",
            "\n",
            "\n",
            "Probability of family having atleast one dog = 0.9375\n",
            "Number of families having atleast one dog = 750\n",
            "\n",
            "\n",
            "Probability of families having atmost 2 cats = 0.6875\n",
            "Number of families having atmost 2 cats = 550\n",
            "\n",
            "\n",
            "Probability of families having a dog and a cat = 0.125\n",
            "Number of families having both dog and cat = 100\n"
          ]
        }
      ]
    },
    {
      "cell_type": "code",
      "source": [],
      "metadata": {
        "id": "4QF9IYMrgzaV"
      },
      "execution_count": null,
      "outputs": []
    },
    {
      "cell_type": "code",
      "metadata": {
        "colab": {
          "base_uri": "https://localhost:8080/"
        },
        "id": "fP5QwdtYgHBS",
        "outputId": "d1d90beb-7f8c-401d-8276-9f19d6cec6a4"
      },
      "source": [
        "from scipy.stats import poisson\n",
        "lamb = 1.8\n",
        "p_0bd = poisson.pmf(0,lamb)\n",
        "print(\"Probability that computer functions without a breadown =\",p_0bd)\n",
        "p_1bd = poisson.pmf(1,lamb)\n",
        "print(\"Probability that computer breaks down only once =\",p_1bd)\n",
        "p_atleast2bd = 1 - p_0bd - p_1bd \n",
        "print(\"Probability that computer breaks down atleast twice =\",p_atleast2bd)"
      ],
      "execution_count": null,
      "outputs": [
        {
          "output_type": "stream",
          "name": "stdout",
          "text": [
            "Probability that computer functions without a breadown = 0.16529888822158653\n",
            "Probability that computer breaks down only once = 0.2975379987988558\n",
            "Probability that computer breaks down atleast twice = 0.5371631129795577\n"
          ]
        }
      ]
    },
    {
      "cell_type": "code",
      "metadata": {
        "colab": {
          "base_uri": "https://localhost:8080/"
        },
        "id": "TJ3bKhRyne1G",
        "outputId": "cdc75d5c-3c08-4a7f-e84f-1e3f1bb162c7"
      },
      "source": [
        "from scipy.stats import hypergeom\n",
        "N=20\n",
        "k=12\n",
        "n=5\n",
        "p_3A2F = hypergeom.pmf(3,N,n,k)\n",
        "p_atleast3A = hypergeom.pmf(3,N,n,k) + hypergeom.pmf(4,N,n,k) + hypergeom.pmf(5,N,n,k)\n",
        "p_samemake = hypergeom.pmf(0,N,n,k) + hypergeom.pmf(5,N,n,k)\n",
        "print(\"Probability that cars are 3 Ambassadors and 2 Fiats =\",p_3A2F)\n",
        "print(\"\\nProbability that there are atleast 3 Ambassadors =\",p_atleast3A)\n",
        "print(\"\\nProbability that all 5 cars are of same make =\",p_samemake)"
      ],
      "execution_count": null,
      "outputs": [
        {
          "output_type": "stream",
          "name": "stdout",
          "text": [
            "Probability that cars are 3 Ambassadors and 2 Fiats = 0.3973168214654289\n",
            "\n",
            "Probability that there are atleast 3 Ambassadors = 0.7038183694530455\n",
            "\n",
            "Probability that all 5 cars are of same make = 0.05469556243550056\n"
          ]
        }
      ]
    },
    {
      "cell_type": "code",
      "metadata": {
        "colab": {
          "base_uri": "https://localhost:8080/"
        },
        "id": "845C7UOGonny",
        "outputId": "a3b65400-3907-48af-c7fb-d9c7cb609e05"
      },
      "source": [
        "from scipy.stats import uniform\n",
        "p1 = (uniform.cdf(15,loc =0,scale =30) - uniform.cdf(10,loc =0,scale =30)) +(uniform.cdf(30,loc =0,scale =30) - uniform.cdf(25,loc =0,scale =30))\n",
        "print(\"Probability that he waits less than 5 minutes for a bus =\",p1)\n",
        "p2 =uniform.cdf(3,loc =0,scale=30) + uniform.cdf(18,loc =0,scale =30) - uniform.cdf(15,loc =0,scale =30)\n",
        "print(\"Probability that he waits atleast 12 minutes for a bus =\",p2)"
      ],
      "execution_count": null,
      "outputs": [
        {
          "output_type": "stream",
          "name": "stdout",
          "text": [
            "Probability that he waits less than 5 minutes for a bus = 0.3333333333333333\n",
            "Probability that he waits atleast 12 minutes for a bus = 0.19999999999999996\n"
          ]
        }
      ]
    },
    {
      "cell_type": "code",
      "metadata": {
        "colab": {
          "base_uri": "https://localhost:8080/"
        },
        "id": "nMpSwh1et3rM",
        "outputId": "3777db21-2b99-4e1a-ae17-1b89b495090c"
      },
      "source": [
        "from scipy.stats import expon\n",
        "p_atleast20k = 1 - expon.cdf(20000,0,40000)\n",
        "print(\"Probability that a tire lasts atleast 20000 kilometers =\",p_atleast20k)\n",
        "p_atmost30k = expon.cdf(30000,0,40000)\n",
        "print(\"Probability that a tire lasts atmost 30000 kilometers =\",p_atmost30k)"
      ],
      "execution_count": null,
      "outputs": [
        {
          "output_type": "stream",
          "name": "stdout",
          "text": [
            "Probability that a tire lasts atleast 20000 kilometers = 0.6065306597126334\n",
            "Probability that a tire lasts atmost 30000 kilometers = 0.5276334472589853\n"
          ]
        }
      ]
    },
    {
      "cell_type": "code",
      "metadata": {
        "colab": {
          "base_uri": "https://localhost:8080/"
        },
        "id": "Mob51pF0wg-i",
        "outputId": "9cbeefd3-d050-44f1-c650-1f16950a7d69"
      },
      "source": [
        "from scipy.stats import gamma\n",
        "p_inadequate = 1-gamma.cdf(12,3,0,2)\n",
        "print(\"Probabiity that supply will be inadequate =\",p_inadequate)"
      ],
      "execution_count": null,
      "outputs": [
        {
          "output_type": "stream",
          "name": "stdout",
          "text": [
            "Probabiity that supply will be inadequate = 0.061968804416658974\n"
          ]
        }
      ]
    },
    {
      "cell_type": "code",
      "metadata": {
        "colab": {
          "base_uri": "https://localhost:8080/"
        },
        "id": "QnovhKqgyfu3",
        "outputId": "3ccf5fd0-859c-4771-c5c1-91b5105b45e1"
      },
      "source": [
        "from scipy.stats import beta\n",
        "p_beta = beta.cdf(0.3,2,5) - beta.cdf(0.2,2,5)\n",
        "print(\"Probability of defective balls in basket from 20% to 30% =\",p_beta)"
      ],
      "execution_count": null,
      "outputs": [
        {
          "output_type": "stream",
          "name": "stdout",
          "text": [
            "Probability of defective balls in basket from 20% to 30% = 0.2351850000000001\n"
          ]
        }
      ]
    },
    {
      "cell_type": "code",
      "metadata": {
        "colab": {
          "base_uri": "https://localhost:8080/"
        },
        "id": "-o8rm6be0FKO",
        "outputId": "599faaf1-4669-49a4-b059-fef60b7fb926"
      },
      "source": [
        "from scipy.stats import norm\n",
        "p_success = norm.sf(75,65,5)\n",
        "print(\"Probability that selected student scored above 75 =\",p_success)\n",
        "p_atleast1scored75plus = 1 - binom.pmf(k=0,n=3, p = p_success)\n",
        "print(\"Probability that atleast 1 among 3 students scored above 75 =\",p_atleast1scored75plus)"
      ],
      "execution_count": null,
      "outputs": [
        {
          "output_type": "stream",
          "name": "stdout",
          "text": [
            "Probability that selected student scored above 75 = 0.022750131948179195\n",
            "Probability that atleast 1 among 3 students scored above 75 = 0.0667094650853094\n"
          ]
        }
      ]
    },
    {
      "cell_type": "code",
      "metadata": {
        "colab": {
          "base_uri": "https://localhost:8080/",
          "height": 300
        },
        "id": "kKw8wwxW6JUA",
        "outputId": "5751edca-7a3c-486c-e417-6fbe905d0258"
      },
      "source": [
        "fig,ax = plt.subplots(1,1)\n",
        "mean, var, skew, kurt = norm.stats(moments = 'mvsk')\n",
        "print(mean,var,skew,kurt)\n",
        "x = np.linspace(norm.ppf(0.01), norm.ppf(0.99),100)\n",
        "ax.plot(x,norm.pdf(x),'r',lw=3,alpha =0.6,label = 'norm.pdf')"
      ],
      "execution_count": null,
      "outputs": [
        {
          "output_type": "stream",
          "name": "stdout",
          "text": [
            "0.0 1.0 0.0 0.0\n"
          ]
        },
        {
          "output_type": "execute_result",
          "data": {
            "text/plain": [
              "[<matplotlib.lines.Line2D at 0x7f5ffa461950>]"
            ]
          },
          "metadata": {},
          "execution_count": 38
        },
        {
          "output_type": "display_data",
          "data": {
            "image/png": "[encoded data removed]",
            "text/plain": [
              "<Figure size 432x288 with 1 Axes>"
            ]
          },
          "metadata": {
            "needs_background": "light"
          }
        }
      ]
    }
  ]
}