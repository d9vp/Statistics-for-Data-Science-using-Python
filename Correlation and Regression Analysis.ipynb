{
  "nbformat": 4,
  "nbformat_minor": 0,
  "metadata": {
    "colab": {
      "provenance": []
    },
    "kernelspec": {
      "name": "python3",
      "display_name": "Python 3"
    },
    "language_info": {
      "name": "python"
    }
  },
  "cells": [
    {
      "cell_type": "code",
      "execution_count": null,
      "metadata": {
        "id": "EzCagaJn0U1n"
      },
      "outputs": [],
      "source": [
        "import numpy as np\n",
        "import pandas as pd\n",
        "from scipy.stats import t\n",
        "import matplotlib.pyplot as plt\n",
        "import math\n",
        "from statsmodels.formula.api import ols"
      ]
    },
    {
      "cell_type": "markdown",
      "source": [
        "## **Q1**"
      ],
      "metadata": {
        "id": "0-omB4zS22EB"
      }
    },
    {
      "cell_type": "code",
      "source": [
        "path = '/content/sample_data/Family_Expenditure.csv'\n",
        "df = pd.read_csv(path)\n",
        "df"
      ],
      "metadata": {
        "colab": {
          "base_uri": "https://localhost:8080/",
          "height": 363
        },
        "id": "btyMm2wx24uq",
        "outputId": "43ab9471-1637-467b-a245-279dbf9c2061"
      },
      "execution_count": null,
      "outputs": [
        {
          "output_type": "execute_result",
          "data": {
            "text/html": [
              "\n",
              "  <div id=\"df-a1e7d6f7-45d5-49e3-91fa-bdade9c1f868\">\n",
              "    <div class=\"colab-df-container\">\n",
              "      <div>\n",
              "<style scoped>\n",
              "    .dataframe tbody tr th:only-of-type {\n",
              "        vertical-align: middle;\n",
              "    }\n",
              "\n",
              "    .dataframe tbody tr th {\n",
              "        vertical-align: top;\n",
              "    }\n",
              "\n",
              "    .dataframe thead th {\n",
              "        text-align: right;\n",
              "    }\n",
              "</style>\n",
              "<table border=\"1\" class=\"dataframe\">\n",
              "  <thead>\n",
              "    <tr style=\"text-align: right;\">\n",
              "      <th></th>\n",
              "      <th>Y</th>\n",
              "      <th>X</th>\n",
              "    </tr>\n",
              "  </thead>\n",
              "  <tbody>\n",
              "    <tr>\n",
              "      <th>0</th>\n",
              "      <td>70</td>\n",
              "      <td>80</td>\n",
              "    </tr>\n",
              "    <tr>\n",
              "      <th>1</th>\n",
              "      <td>65</td>\n",
              "      <td>100</td>\n",
              "    </tr>\n",
              "    <tr>\n",
              "      <th>2</th>\n",
              "      <td>90</td>\n",
              "      <td>120</td>\n",
              "    </tr>\n",
              "    <tr>\n",
              "      <th>3</th>\n",
              "      <td>95</td>\n",
              "      <td>140</td>\n",
              "    </tr>\n",
              "    <tr>\n",
              "      <th>4</th>\n",
              "      <td>110</td>\n",
              "      <td>160</td>\n",
              "    </tr>\n",
              "    <tr>\n",
              "      <th>5</th>\n",
              "      <td>115</td>\n",
              "      <td>180</td>\n",
              "    </tr>\n",
              "    <tr>\n",
              "      <th>6</th>\n",
              "      <td>120</td>\n",
              "      <td>200</td>\n",
              "    </tr>\n",
              "    <tr>\n",
              "      <th>7</th>\n",
              "      <td>140</td>\n",
              "      <td>220</td>\n",
              "    </tr>\n",
              "    <tr>\n",
              "      <th>8</th>\n",
              "      <td>155</td>\n",
              "      <td>240</td>\n",
              "    </tr>\n",
              "    <tr>\n",
              "      <th>9</th>\n",
              "      <td>150</td>\n",
              "      <td>260</td>\n",
              "    </tr>\n",
              "  </tbody>\n",
              "</table>\n",
              "</div>\n",
              "      <button class=\"colab-df-convert\" onclick=\"convertToInteractive('df-a1e7d6f7-45d5-49e3-91fa-bdade9c1f868')\"\n",
              "              title=\"Convert this dataframe to an interactive table.\"\n",
              "              style=\"display:none;\">\n",
              "        \n",
              "  <svg xmlns=\"http://www.w3.org/2000/svg\" height=\"24px\"viewBox=\"0 0 24 24\"\n",
              "       width=\"24px\">\n",
              "    <path d=\"M0 0h24v24H0V0z\" fill=\"none\"/>\n",
              "    <path d=\"M18.56 5.44l.94 2.06.94-2.06 2.06-.94-2.06-.94-.94-2.06-.94 2.06-2.06.94zm-11 1L8.5 8.5l.94-2.06 2.06-.94-2.06-.94L8.5 2.5l-.94 2.06-2.06.94zm10 10l.94 2.06.94-2.06 2.06-.94-2.06-.94-.94-2.06-.94 2.06-2.06.94z\"/><path d=\"M17.41 7.96l-1.37-1.37c-.4-.4-.92-.59-1.43-.59-.52 0-1.04.2-1.43.59L10.3 9.45l-7.72 7.72c-.78.78-.78 2.05 0 2.83L4 21.41c.39.39.9.59 1.41.59.51 0 1.02-.2 1.41-.59l7.78-7.78 2.81-2.81c.8-.78.8-2.07 0-2.86zM5.41 20L4 18.59l7.72-7.72 1.47 1.35L5.41 20z\"/>\n",
              "  </svg>\n",
              "      </button>\n",
              "      \n",
              "  <style>\n",
              "    .colab-df-container {\n",
              "      display:flex;\n",
              "      flex-wrap:wrap;\n",
              "      gap: 12px;\n",
              "    }\n",
              "\n",
              "    .colab-df-convert {\n",
              "      background-color: #E8F0FE;\n",
              "      border: none;\n",
              "      border-radius: 50%;\n",
              "      cursor: pointer;\n",
              "      display: none;\n",
              "      fill: #1967D2;\n",
              "      height: 32px;\n",
              "      padding: 0 0 0 0;\n",
              "      width: 32px;\n",
              "    }\n",
              "\n",
              "    .colab-df-convert:hover {\n",
              "      background-color: #E2EBFA;\n",
              "      box-shadow: 0px 1px 2px rgba(60, 64, 67, 0.3), 0px 1px 3px 1px rgba(60, 64, 67, 0.15);\n",
              "      fill: #174EA6;\n",
              "    }\n",
              "\n",
              "    [theme=dark] .colab-df-convert {\n",
              "      background-color: #3B4455;\n",
              "      fill: #D2E3FC;\n",
              "    }\n",
              "\n",
              "    [theme=dark] .colab-df-convert:hover {\n",
              "      background-color: #434B5C;\n",
              "      box-shadow: 0px 1px 3px 1px rgba(0, 0, 0, 0.15);\n",
              "      filter: drop-shadow(0px 1px 2px rgba(0, 0, 0, 0.3));\n",
              "      fill: #FFFFFF;\n",
              "    }\n",
              "  </style>\n",
              "\n",
              "      <script>\n",
              "        const buttonEl =\n",
              "          document.querySelector('#df-a1e7d6f7-45d5-49e3-91fa-bdade9c1f868 button.colab-df-convert');\n",
              "        buttonEl.style.display =\n",
              "          google.colab.kernel.accessAllowed ? 'block' : 'none';\n",
              "\n",
              "        async function convertToInteractive(key) {\n",
              "          const element = document.querySelector('#df-a1e7d6f7-45d5-49e3-91fa-bdade9c1f868');\n",
              "          const dataTable =\n",
              "            await google.colab.kernel.invokeFunction('convertToInteractive',\n",
              "                                                     [key], {});\n",
              "          if (!dataTable) return;\n",
              "\n",
              "          const docLinkHtml = 'Like what you see? Visit the ' +\n",
              "            '<a target=\"_blank\" href=https://colab.research.google.com/notebooks/data_table.ipynb>data table notebook</a>'\n",
              "            + ' to learn more about interactive tables.';\n",
              "          element.innerHTML = '';\n",
              "          dataTable['output_type'] = 'display_data';\n",
              "          await google.colab.output.renderOutput(dataTable, element);\n",
              "          const docLink = document.createElement('div');\n",
              "          docLink.innerHTML = docLinkHtml;\n",
              "          element.appendChild(docLink);\n",
              "        }\n",
              "      </script>\n",
              "    </div>\n",
              "  </div>\n",
              "  "
            ],
            "text/plain": [
              "     Y    X\n",
              "0   70   80\n",
              "1   65  100\n",
              "2   90  120\n",
              "3   95  140\n",
              "4  110  160\n",
              "5  115  180\n",
              "6  120  200\n",
              "7  140  220\n",
              "8  155  240\n",
              "9  150  260"
            ]
          },
          "metadata": {},
          "execution_count": 110
        }
      ]
    },
    {
      "cell_type": "code",
      "source": [
        "print(\"Scatter plot for given dataset:\")\n",
        "fig = plt.figure(figsize = (7,7))\n",
        "X = df['X']\n",
        "Y = df['Y']\n",
        "n = len(X)\n",
        "m = range(1, n+1)\n",
        "fig, ax = plt.subplots()\n",
        "ax.scatter(X ,Y , marker = 'o', c = 'red', alpha = 0.5)\n",
        "plt.grid()\n",
        "plt.xlabel(\"Weekly family income (X)\")\n",
        "plt.ylabel(\"Weekly family consumption expenditure (Y)\")\n",
        "for i, txt in enumerate(m):\n",
        "  ax.annotate(txt, (X[i], Y[i]))"
      ],
      "metadata": {
        "colab": {
          "base_uri": "https://localhost:8080/",
          "height": 314
        },
        "id": "8FkHypRA3Wpq",
        "outputId": "0a7c5b2d-b93b-462a-fe74-85be865d1209"
      },
      "execution_count": null,
      "outputs": [
        {
          "output_type": "stream",
          "name": "stdout",
          "text": [
            "Scatter plot for given dataset:\n"
          ]
        },
        {
          "output_type": "display_data",
          "data": {
            "text/plain": [
              "<Figure size 504x504 with 0 Axes>"
            ]
          },
          "metadata": {}
        },
        {
          "output_type": "display_data",
          "data": {
            "image/png": "[encoded data removed]",
            "text/plain": [
              "<Figure size 432x288 with 1 Axes>"
            ]
          },
          "metadata": {
            "needs_background": "light"
          }
        }
      ]
    },
    {
      "cell_type": "code",
      "source": [
        "corr_mat = np.corrcoef(X, Y)\n",
        "print(corr_mat)\n",
        "r = corr_mat[0,1]\n",
        "print(\"The coefficient of correlation between X and Y is \" + str(r)) "
      ],
      "metadata": {
        "colab": {
          "base_uri": "https://localhost:8080/"
        },
        "id": "HvfODobl5djV",
        "outputId": "0bea171a-f61a-4fb0-9ed6-9d9c9be1d54f"
      },
      "execution_count": null,
      "outputs": [
        {
          "output_type": "stream",
          "name": "stdout",
          "text": [
            "[[1.         0.98084737]\n",
            " [0.98084737 1.        ]]\n",
            "The coefficient of correlation between X and Y is 0.9808473685985795\n"
          ]
        }
      ]
    },
    {
      "cell_type": "code",
      "source": [
        "print(\"Null hypothesis: The coefficient of correlation between X and Y is not significant\")\n",
        "print(\"Alternate hypothesis: The coefficient of correlation between X and Y is significant\")\n",
        "alpha = 0.05\n",
        "t_statistics = r*math.sqrt(n-2)/(math.sqrt(1-r**2))\n",
        "p_value = 2*t.sf(t_statistics, n-2)\n",
        "print('t_statistics = ', t_statistics, 'and p_value is ', p_value)\n",
        "if p_value > alpha :\n",
        "  print(\"Failed to reject the null hypothesis for level of significance = \" +str(alpha))\n",
        "else:\n",
        "  print(\"Null hypothesis is rejected for level of significance = \" +str(alpha))"
      ],
      "metadata": {
        "colab": {
          "base_uri": "https://localhost:8080/"
        },
        "id": "_nzufJoe6Oyy",
        "outputId": "7248e794-8bcf-4240-faf0-62abc4ab93b8"
      },
      "execution_count": null,
      "outputs": [
        {
          "output_type": "stream",
          "name": "stdout",
          "text": [
            "Null hypothesis: The coefficient of correlation between X and Y is not significant\n",
            "Alternate hypothesis: The coefficient of correlation between X and Y is significant\n",
            "t_statistics =  14.243171154216448 and p_value is  5.752746116732455e-07\n",
            "Null hypothesis is rejected for level of significance = 0.05\n"
          ]
        }
      ]
    },
    {
      "cell_type": "markdown",
      "source": [
        "## **Q2**"
      ],
      "metadata": {
        "id": "q3cjtixD77hb"
      }
    },
    {
      "cell_type": "code",
      "source": [
        "path = '/content/sample_data/Household_Expenditure.csv'\n",
        "df = pd.read_csv(path)\n",
        "df"
      ],
      "metadata": {
        "colab": {
          "base_uri": "https://localhost:8080/",
          "height": 520
        },
        "id": "akA7itc57_Kn",
        "outputId": "53e4e5d0-62e7-4337-afdd-c1b0fffe377a"
      },
      "execution_count": null,
      "outputs": [
        {
          "output_type": "execute_result",
          "data": {
            "text/html": [
              "\n",
              "  <div id=\"df-eb63a950-9563-49e2-8869-0679400086b6\">\n",
              "    <div class=\"colab-df-container\">\n",
              "      <div>\n",
              "<style scoped>\n",
              "    .dataframe tbody tr th:only-of-type {\n",
              "        vertical-align: middle;\n",
              "    }\n",
              "\n",
              "    .dataframe tbody tr th {\n",
              "        vertical-align: top;\n",
              "    }\n",
              "\n",
              "    .dataframe thead th {\n",
              "        text-align: right;\n",
              "    }\n",
              "</style>\n",
              "<table border=\"1\" class=\"dataframe\">\n",
              "  <thead>\n",
              "    <tr style=\"text-align: right;\">\n",
              "      <th></th>\n",
              "      <th>Y</th>\n",
              "      <th>X</th>\n",
              "    </tr>\n",
              "  </thead>\n",
              "  <tbody>\n",
              "    <tr>\n",
              "      <th>0</th>\n",
              "      <td>60</td>\n",
              "      <td>100</td>\n",
              "    </tr>\n",
              "    <tr>\n",
              "      <th>1</th>\n",
              "      <td>90</td>\n",
              "      <td>150</td>\n",
              "    </tr>\n",
              "    <tr>\n",
              "      <th>2</th>\n",
              "      <td>110</td>\n",
              "      <td>200</td>\n",
              "    </tr>\n",
              "    <tr>\n",
              "      <th>3</th>\n",
              "      <td>125</td>\n",
              "      <td>250</td>\n",
              "    </tr>\n",
              "    <tr>\n",
              "      <th>4</th>\n",
              "      <td>150</td>\n",
              "      <td>300</td>\n",
              "    </tr>\n",
              "    <tr>\n",
              "      <th>5</th>\n",
              "      <td>170</td>\n",
              "      <td>350</td>\n",
              "    </tr>\n",
              "    <tr>\n",
              "      <th>6</th>\n",
              "      <td>180</td>\n",
              "      <td>400</td>\n",
              "    </tr>\n",
              "    <tr>\n",
              "      <th>7</th>\n",
              "      <td>200</td>\n",
              "      <td>450</td>\n",
              "    </tr>\n",
              "    <tr>\n",
              "      <th>8</th>\n",
              "      <td>220</td>\n",
              "      <td>500</td>\n",
              "    </tr>\n",
              "    <tr>\n",
              "      <th>9</th>\n",
              "      <td>230</td>\n",
              "      <td>550</td>\n",
              "    </tr>\n",
              "    <tr>\n",
              "      <th>10</th>\n",
              "      <td>240</td>\n",
              "      <td>600</td>\n",
              "    </tr>\n",
              "    <tr>\n",
              "      <th>11</th>\n",
              "      <td>250</td>\n",
              "      <td>650</td>\n",
              "    </tr>\n",
              "    <tr>\n",
              "      <th>12</th>\n",
              "      <td>255</td>\n",
              "      <td>700</td>\n",
              "    </tr>\n",
              "    <tr>\n",
              "      <th>13</th>\n",
              "      <td>260</td>\n",
              "      <td>750</td>\n",
              "    </tr>\n",
              "    <tr>\n",
              "      <th>14</th>\n",
              "      <td>260</td>\n",
              "      <td>800</td>\n",
              "    </tr>\n",
              "  </tbody>\n",
              "</table>\n",
              "</div>\n",
              "      <button class=\"colab-df-convert\" onclick=\"convertToInteractive('df-eb63a950-9563-49e2-8869-0679400086b6')\"\n",
              "              title=\"Convert this dataframe to an interactive table.\"\n",
              "              style=\"display:none;\">\n",
              "        \n",
              "  <svg xmlns=\"http://www.w3.org/2000/svg\" height=\"24px\"viewBox=\"0 0 24 24\"\n",
              "       width=\"24px\">\n",
              "    <path d=\"M0 0h24v24H0V0z\" fill=\"none\"/>\n",
              "    <path d=\"M18.56 5.44l.94 2.06.94-2.06 2.06-.94-2.06-.94-.94-2.06-.94 2.06-2.06.94zm-11 1L8.5 8.5l.94-2.06 2.06-.94-2.06-.94L8.5 2.5l-.94 2.06-2.06.94zm10 10l.94 2.06.94-2.06 2.06-.94-2.06-.94-.94-2.06-.94 2.06-2.06.94z\"/><path d=\"M17.41 7.96l-1.37-1.37c-.4-.4-.92-.59-1.43-.59-.52 0-1.04.2-1.43.59L10.3 9.45l-7.72 7.72c-.78.78-.78 2.05 0 2.83L4 21.41c.39.39.9.59 1.41.59.51 0 1.02-.2 1.41-.59l7.78-7.78 2.81-2.81c.8-.78.8-2.07 0-2.86zM5.41 20L4 18.59l7.72-7.72 1.47 1.35L5.41 20z\"/>\n",
              "  </svg>\n",
              "      </button>\n",
              "      \n",
              "  <style>\n",
              "    .colab-df-container {\n",
              "      display:flex;\n",
              "      flex-wrap:wrap;\n",
              "      gap: 12px;\n",
              "    }\n",
              "\n",
              "    .colab-df-convert {\n",
              "      background-color: #E8F0FE;\n",
              "      border: none;\n",
              "      border-radius: 50%;\n",
              "      cursor: pointer;\n",
              "      display: none;\n",
              "      fill: #1967D2;\n",
              "      height: 32px;\n",
              "      padding: 0 0 0 0;\n",
              "      width: 32px;\n",
              "    }\n",
              "\n",
              "    .colab-df-convert:hover {\n",
              "      background-color: #E2EBFA;\n",
              "      box-shadow: 0px 1px 2px rgba(60, 64, 67, 0.3), 0px 1px 3px 1px rgba(60, 64, 67, 0.15);\n",
              "      fill: #174EA6;\n",
              "    }\n",
              "\n",
              "    [theme=dark] .colab-df-convert {\n",
              "      background-color: #3B4455;\n",
              "      fill: #D2E3FC;\n",
              "    }\n",
              "\n",
              "    [theme=dark] .colab-df-convert:hover {\n",
              "      background-color: #434B5C;\n",
              "      box-shadow: 0px 1px 3px 1px rgba(0, 0, 0, 0.15);\n",
              "      filter: drop-shadow(0px 1px 2px rgba(0, 0, 0, 0.3));\n",
              "      fill: #FFFFFF;\n",
              "    }\n",
              "  </style>\n",
              "\n",
              "      <script>\n",
              "        const buttonEl =\n",
              "          document.querySelector('#df-eb63a950-9563-49e2-8869-0679400086b6 button.colab-df-convert');\n",
              "        buttonEl.style.display =\n",
              "          google.colab.kernel.accessAllowed ? 'block' : 'none';\n",
              "\n",
              "        async function convertToInteractive(key) {\n",
              "          const element = document.querySelector('#df-eb63a950-9563-49e2-8869-0679400086b6');\n",
              "          const dataTable =\n",
              "            await google.colab.kernel.invokeFunction('convertToInteractive',\n",
              "                                                     [key], {});\n",
              "          if (!dataTable) return;\n",
              "\n",
              "          const docLinkHtml = 'Like what you see? Visit the ' +\n",
              "            '<a target=\"_blank\" href=https://colab.research.google.com/notebooks/data_table.ipynb>data table notebook</a>'\n",
              "            + ' to learn more about interactive tables.';\n",
              "          element.innerHTML = '';\n",
              "          dataTable['output_type'] = 'display_data';\n",
              "          await google.colab.output.renderOutput(dataTable, element);\n",
              "          const docLink = document.createElement('div');\n",
              "          docLink.innerHTML = docLinkHtml;\n",
              "          element.appendChild(docLink);\n",
              "        }\n",
              "      </script>\n",
              "    </div>\n",
              "  </div>\n",
              "  "
            ],
            "text/plain": [
              "      Y    X\n",
              "0    60  100\n",
              "1    90  150\n",
              "2   110  200\n",
              "3   125  250\n",
              "4   150  300\n",
              "5   170  350\n",
              "6   180  400\n",
              "7   200  450\n",
              "8   220  500\n",
              "9   230  550\n",
              "10  240  600\n",
              "11  250  650\n",
              "12  255  700\n",
              "13  260  750\n",
              "14  260  800"
            ]
          },
          "metadata": {},
          "execution_count": 114
        }
      ]
    },
    {
      "cell_type": "code",
      "source": [
        "print(\"Scatter plot for given dataset:\")\n",
        "fig = plt.figure(figsize = (7,7))\n",
        "X = df['X']\n",
        "Y = df['Y']\n",
        "n = len(X)\n",
        "m = range(1, n+1)\n",
        "fig, ax = plt.subplots()\n",
        "ax.scatter(X ,Y , marker = 'o', c = 'red', alpha = 0.5)\n",
        "plt.grid()\n",
        "plt.xlabel(\"Weekly household income (X)\")\n",
        "plt.ylabel(\"Weekly household consumption expenditure (Y)\")\n",
        "for i, txt in enumerate(m):\n",
        "  ax.annotate(txt, (X[i], Y[i]))"
      ],
      "metadata": {
        "colab": {
          "base_uri": "https://localhost:8080/",
          "height": 325
        },
        "id": "nJW8T_T987Ct",
        "outputId": "6a34b531-5135-48be-fc29-364c3b5c1d4b"
      },
      "execution_count": null,
      "outputs": [
        {
          "output_type": "stream",
          "name": "stdout",
          "text": [
            "Scatter plot for given dataset:\n"
          ]
        },
        {
          "output_type": "display_data",
          "data": {
            "text/plain": [
              "<Figure size 504x504 with 0 Axes>"
            ]
          },
          "metadata": {}
        },
        {
          "output_type": "display_data",
          "data": {
            "image/png": "[encoded data removed]",
            "text/plain": [
              "<Figure size 432x288 with 1 Axes>"
            ]
          },
          "metadata": {
            "needs_background": "light"
          }
        }
      ]
    },
    {
      "cell_type": "code",
      "source": [
        "corr_mat = np.corrcoef(X, Y)\n",
        "print(corr_mat)\n",
        "r = corr_mat[0,1]\n",
        "print(\"The coefficient of correlation between X and Y is \" + str(r)) "
      ],
      "metadata": {
        "colab": {
          "base_uri": "https://localhost:8080/"
        },
        "id": "uPi4oetw9Jlh",
        "outputId": "59bb3c3c-877c-4f8b-e4bb-4810e79d5563"
      },
      "execution_count": null,
      "outputs": [
        {
          "output_type": "stream",
          "name": "stdout",
          "text": [
            "[[1.         0.97658848]\n",
            " [0.97658848 1.        ]]\n",
            "The coefficient of correlation between X and Y is 0.9765884824912034\n"
          ]
        }
      ]
    },
    {
      "cell_type": "code",
      "source": [
        "print(\"Null hypothesis: The coefficient of correlation between X and Y is not significant\")\n",
        "print(\"alternate hypothesis: The coefficient of correlation between X and Y is significant\")\n",
        "alpha = 0.05\n",
        "t_statistics = r*math.sqrt(n-2)/(math.sqrt(1-r**2))\n",
        "p_value = 2*t.sf(t_statistics, n-2)\n",
        "print('t_statistics = ', t_statistics, 'and p_value is ', p_value)\n",
        "if p_value > alpha :\n",
        "  print(\"Failed to reject the null hypothesis for level of significance =\",alpha)\n",
        "else:\n",
        "  print(\"Null hypothesis is rejected for level of significance =\",alpha)"
      ],
      "metadata": {
        "colab": {
          "base_uri": "https://localhost:8080/"
        },
        "id": "Xe3WlBOU9NGg",
        "outputId": "9352827d-f742-4018-cd32-e4d2a9d2a2d6"
      },
      "execution_count": null,
      "outputs": [
        {
          "output_type": "stream",
          "name": "stdout",
          "text": [
            "Null hypothesis: The coefficient of correlation between X and Y is not significant\n",
            "alternate hypothesis: The coefficient of correlation between X and Y is significant\n",
            "t_statistics =  16.368555733381395 and p_value is  4.680215495139646e-10\n",
            "Null hypothesis is rejected for level of significance = 0.05\n"
          ]
        }
      ]
    },
    {
      "cell_type": "markdown",
      "source": [
        "## **Q 3**"
      ],
      "metadata": {
        "id": "W5tUfkaK-9q9"
      }
    },
    {
      "cell_type": "markdown",
      "source": [
        "**Y = B0 + B1X + U**\n",
        "\n",
        "u = y - (C - mx )\n",
        "\n",
        "................................................\n",
        "u = y = yhat\n",
        "\n",
        ".....................................\n",
        "e = u\n",
        "\n",
        "...........................................\n",
        "u is error"
      ],
      "metadata": {
        "id": "TCBZp0FZBHZK"
      }
    },
    {
      "cell_type": "code",
      "source": [
        "path = '/content/sample_data/Family_Expenditure.csv'\n",
        "df = pd.read_csv(path)"
      ],
      "metadata": {
        "id": "Mb1Krhk5-_ho"
      },
      "execution_count": null,
      "outputs": []
    },
    {
      "cell_type": "code",
      "source": [
        "print(\"Scatter plot for given dataset:\")\n",
        "fig = plt.figure(figsize = (7,7))\n",
        "X = df['X']\n",
        "Y = df['Y']\n",
        "n = len(X)\n",
        "m = range(1, n+1)\n",
        "fig, ax = plt.subplots()\n",
        "ax.scatter(X ,Y , marker = 'o', c = 'red', alpha = 0.5)\n",
        "plt.grid()\n",
        "plt.xlabel(\"Weekly family income (X)\")\n",
        "plt.ylabel(\"Weekly family consumption expenditure (Y)\")\n",
        "for i, txt in enumerate(m):\n",
        "  ax.annotate(txt, (X[i], Y[i]))"
      ],
      "metadata": {
        "colab": {
          "base_uri": "https://localhost:8080/",
          "height": 314
        },
        "outputId": "d4b77c37-f108-4537-d0be-dde5556383c2",
        "id": "OkHexID-_PkD"
      },
      "execution_count": null,
      "outputs": [
        {
          "output_type": "stream",
          "name": "stdout",
          "text": [
            "Scatter plot for given dataset:\n"
          ]
        },
        {
          "output_type": "display_data",
          "data": {
            "text/plain": [
              "<Figure size 504x504 with 0 Axes>"
            ]
          },
          "metadata": {}
        },
        {
          "output_type": "display_data",
          "data": {
            "image/png": "[encoded data removed]",
            "text/plain": [
              "<Figure size 432x288 with 1 Axes>"
            ]
          },
          "metadata": {
            "needs_background": "light"
          }
        }
      ]
    },
    {
      "cell_type": "code",
      "source": [
        "Reg1 = ols(formula = 'Y ~ X', data = df)\n",
        "fit1 = Reg1.fit()\n",
        "print(\"Regression table is given below :\\n\", fit1.summary())"
      ],
      "metadata": {
        "colab": {
          "base_uri": "https://localhost:8080/"
        },
        "id": "_etZ6JA_BrRS",
        "outputId": "726aaa44-0eea-45fd-bf96-3476a2b3625b"
      },
      "execution_count": null,
      "outputs": [
        {
          "output_type": "stream",
          "name": "stdout",
          "text": [
            "Regression table is given below :\n",
            "                             OLS Regression Results                            \n",
            "==============================================================================\n",
            "Dep. Variable:                      Y   R-squared:                       0.962\n",
            "Model:                            OLS   Adj. R-squared:                  0.957\n",
            "Method:                 Least Squares   F-statistic:                     202.9\n",
            "Date:                Sat, 29 Jan 2022   Prob (F-statistic):           5.75e-07\n",
            "Time:                        09:15:20   Log-Likelihood:                -31.781\n",
            "No. Observations:                  10   AIC:                             67.56\n",
            "Df Residuals:                       8   BIC:                             68.17\n",
            "Df Model:                           1                                         \n",
            "Covariance Type:            nonrobust                                         \n",
            "==============================================================================\n",
            "                 coef    std err          t      P>|t|      [0.025      0.975]\n",
            "------------------------------------------------------------------------------\n",
            "Intercept     24.4545      6.414      3.813      0.005       9.664      39.245\n",
            "X              0.5091      0.036     14.243      0.000       0.427       0.592\n",
            "==============================================================================\n",
            "Omnibus:                        1.060   Durbin-Watson:                   2.680\n",
            "Prob(Omnibus):                  0.589   Jarque-Bera (JB):                0.777\n",
            "Skew:                          -0.398   Prob(JB):                        0.678\n",
            "Kurtosis:                       1.891   Cond. No.                         561.\n",
            "==============================================================================\n",
            "\n",
            "Warnings:\n",
            "[1] Standard Errors assume that the covariance matrix of the errors is correctly specified.\n"
          ]
        },
        {
          "output_type": "stream",
          "name": "stderr",
          "text": [
            "/usr/local/lib/python3.7/dist-packages/scipy/stats/stats.py:1535: UserWarning: kurtosistest only valid for n>=20 ... continuing anyway, n=10\n",
            "  \"anyway, n=%i\" % int(n))\n"
          ]
        }
      ]
    },
    {
      "cell_type": "code",
      "source": [
        "b_0 = fit1.params['Intercept']\n",
        "b_1 = fit1.params['X']\n",
        "print('The estimated consumption of the family is Y_hat =',round(b_0, 4) ,' + ',round(b_1, 4), ' *X')"
      ],
      "metadata": {
        "colab": {
          "base_uri": "https://localhost:8080/"
        },
        "id": "iEKpq-XwES8d",
        "outputId": "d9a24310-ad49-4603-8c16-ee5e433abfcf"
      },
      "execution_count": null,
      "outputs": [
        {
          "output_type": "stream",
          "name": "stdout",
          "text": [
            "The estimated consumption of the family is Y_hat = 24.4545  +  0.5091  *X\n"
          ]
        }
      ]
    },
    {
      "cell_type": "code",
      "source": [
        "alpha = 0.05\n",
        "SE_b_0 = fit1.bse['Intercept']\n",
        "SE_b_1 = fit1.bse['X']\n",
        "print(\"Hypothesis test for the significance of parameter beta_0.\")\n",
        "print('Null hypothesis is that beta_0 = 0.')\n",
        "print('Alternate hypothesis is that beta_0 != 0.')\n",
        "#t_statstics = b_0/SE_b_0\n",
        "#p_value = 2*t.sf(t_statistics, n-2)\n",
        "t_statistics = b_0/SE_b_0\n",
        "p_value = 2*t.sf(t_statistics,n-2)\n",
        "print('t_statistics = ', t_statistics, 'and p_value is ', p_value)\n",
        "if p_value > alpha :\n",
        "  print(\"Failed to reject the null hypothesis for level of significance =\" ,alpha)\n",
        "else:\n",
        "  print(\"Null hypothesis is rejected for level of significance =\",alpha)\n",
        "print(\"\\nHypothesis test for the significance of parameter beta_1.\")\n",
        "print('Null hypothesis is that beta_1 = 0.')\n",
        "print('Alternate hypothesis is that beta_1 != 0.')\n",
        "#t_statstics = b_1/SE_b_1\n",
        "#p_value = 2*t.sf(t_statistics, n-2)\n",
        "t_statistics = b_1/SE_b_1\n",
        "p_value = 2*t.sf(t_statistics,n-2)\n",
        "print('t_statistics = ', t_statistics, 'and p_value is ', p_value)\n",
        "if p_value > alpha :\n",
        "  print(\"Failed to reject the null hypothesis for level of significance =\",alpha)\n",
        "else:\n",
        "  print(\"Null hypothesis is rejected for level of significance =\",alpha)"
      ],
      "metadata": {
        "colab": {
          "base_uri": "https://localhost:8080/"
        },
        "id": "NLsAfdVJFbmS",
        "outputId": "c98bba63-8b0a-4479-f46e-dadac2a3c64d"
      },
      "execution_count": null,
      "outputs": [
        {
          "output_type": "stream",
          "name": "stdout",
          "text": [
            "Hypothesis test for the significance of parameter beta_0.\n",
            "Null hypothesis is that beta_0 = 0.\n",
            "Alternate hypothesis is that beta_0 != 0.\n",
            "t_statistics =  6.2733616262066585 and p_value is  2.8632427874786518e-05\n",
            "Null hypothesis is rejected for level of significance = 0.05\n",
            "\n",
            "Hypothesis test for the significance of parameter beta_1.\n",
            "Null hypothesis is that beta_1 = 0.\n",
            "Alternate hypothesis is that beta_1 != 0.\n",
            "t_statistics =  16.36855573338143 and p_value is  4.68021549513953e-10\n",
            "Null hypothesis is rejected for level of significance = 0.05\n"
          ]
        }
      ]
    },
    {
      "cell_type": "code",
      "source": [
        "corr_mat = np.corrcoef(X, Y)\n",
        "r = corr_mat[0,1]\n",
        "R_squared = r**2\n",
        "print(\"The coefficient of determination for the given regression model is\",R_squared)"
      ],
      "metadata": {
        "colab": {
          "base_uri": "https://localhost:8080/"
        },
        "id": "6UjvPWExHNnU",
        "outputId": "c93bffd2-cb0d-41e7-d6ee-1dbcf25ac013"
      },
      "execution_count": null,
      "outputs": [
        {
          "output_type": "stream",
          "name": "stdout",
          "text": [
            "The coefficient of determination for the given regression model is 0.9620615604867576\n"
          ]
        }
      ]
    },
    {
      "cell_type": "markdown",
      "source": [
        "## **Q 4**"
      ],
      "metadata": {
        "id": "7ujOvwyYJQc9"
      }
    },
    {
      "cell_type": "code",
      "source": [
        "path = '/content/sample_data/Household_Expenditure.csv'\n",
        "df = pd.read_csv(path)"
      ],
      "metadata": {
        "id": "am1ukl0CJSoW"
      },
      "execution_count": null,
      "outputs": []
    },
    {
      "cell_type": "code",
      "source": [
        "print(\"Scatter plot for given dataset:\")\n",
        "fig = plt.figure(figsize = (7,7))\n",
        "X = df['X']\n",
        "Y = df['Y']\n",
        "n = len(X)\n",
        "m = range(1, n+1)\n",
        "fig, ax = plt.subplots()\n",
        "ax.scatter(X ,Y , marker = 'o', c = 'red', alpha = 0.5)\n",
        "plt.grid()\n",
        "plt.xlabel(\"Weekly household income (X)\")\n",
        "plt.ylabel(\"Weekly household consumption expenditure (Y)\")\n",
        "for i, txt in enumerate(m):\n",
        "  ax.annotate(txt, (X[i], Y[i]))"
      ],
      "metadata": {
        "colab": {
          "base_uri": "https://localhost:8080/",
          "height": 325
        },
        "id": "qGUREGVEJfgL",
        "outputId": "6bbf54bc-9538-453f-e47e-3049d0a731df"
      },
      "execution_count": null,
      "outputs": [
        {
          "output_type": "stream",
          "name": "stdout",
          "text": [
            "Scatter plot for given dataset:\n"
          ]
        },
        {
          "output_type": "display_data",
          "data": {
            "text/plain": [
              "<Figure size 504x504 with 0 Axes>"
            ]
          },
          "metadata": {}
        },
        {
          "output_type": "display_data",
          "data": {
            "image/png": "[encoded data removed]",
            "text/plain": [
              "<Figure size 432x288 with 1 Axes>"
            ]
          },
          "metadata": {
            "needs_background": "light"
          }
        }
      ]
    },
    {
      "cell_type": "code",
      "source": [
        "Reg1 = ols(formula = 'Y ~ X', data = df)\n",
        "fit1 = Reg1.fit()\n",
        "print(\"Regression table is given below :\\n\", fit1.summary())"
      ],
      "metadata": {
        "colab": {
          "base_uri": "https://localhost:8080/"
        },
        "id": "-s0drd-wJhoV",
        "outputId": "1b614627-7e5d-4d9d-acd6-5e67f47efa34"
      },
      "execution_count": null,
      "outputs": [
        {
          "output_type": "stream",
          "name": "stdout",
          "text": [
            "Regression table is given below :\n",
            "                             OLS Regression Results                            \n",
            "==============================================================================\n",
            "Dep. Variable:                      Y   R-squared:                       0.954\n",
            "Model:                            OLS   Adj. R-squared:                  0.950\n",
            "Method:                 Least Squares   F-statistic:                     267.9\n",
            "Date:                Sat, 29 Jan 2022   Prob (F-statistic):           4.68e-10\n",
            "Time:                        09:15:21   Log-Likelihood:                -60.709\n",
            "No. Observations:                  15   AIC:                             125.4\n",
            "Df Residuals:                      13   BIC:                             126.8\n",
            "Df Model:                           1                                         \n",
            "Covariance Type:            nonrobust                                         \n",
            "==============================================================================\n",
            "                 coef    std err          t      P>|t|      [0.025      0.975]\n",
            "------------------------------------------------------------------------------\n",
            "Intercept     55.6845      8.876      6.273      0.000      36.508      74.861\n",
            "X              0.2911      0.018     16.369      0.000       0.253       0.329\n",
            "==============================================================================\n",
            "Omnibus:                        1.735   Durbin-Watson:                   0.328\n",
            "Prob(Omnibus):                  0.420   Jarque-Bera (JB):                1.335\n",
            "Skew:                          -0.666   Prob(JB):                        0.513\n",
            "Kurtosis:                       2.400   Cond. No.                     1.15e+03\n",
            "==============================================================================\n",
            "\n",
            "Warnings:\n",
            "[1] Standard Errors assume that the covariance matrix of the errors is correctly specified.\n",
            "[2] The condition number is large, 1.15e+03. This might indicate that there are\n",
            "strong multicollinearity or other numerical problems.\n"
          ]
        },
        {
          "output_type": "stream",
          "name": "stderr",
          "text": [
            "/usr/local/lib/python3.7/dist-packages/scipy/stats/stats.py:1535: UserWarning: kurtosistest only valid for n>=20 ... continuing anyway, n=15\n",
            "  \"anyway, n=%i\" % int(n))\n"
          ]
        }
      ]
    },
    {
      "cell_type": "code",
      "source": [
        "b_0 = fit1.params['Intercept']\n",
        "b_1 = fit1.params['X']\n",
        "print('The estimated consumption of the family is Y_hat = ' ,round(b_0, 4) ,' + ',round(b_1, 4) , ' *X')"
      ],
      "metadata": {
        "colab": {
          "base_uri": "https://localhost:8080/"
        },
        "id": "BUQ49GLiQ0uj",
        "outputId": "3ccaee4d-4fce-42ca-bbd5-61a5e675a87c"
      },
      "execution_count": null,
      "outputs": [
        {
          "output_type": "stream",
          "name": "stdout",
          "text": [
            "The estimated consumption of the family is Y_hat =  55.6845  +  0.2911  *X\n"
          ]
        }
      ]
    },
    {
      "cell_type": "code",
      "source": [
        "alpha = 0.05\n",
        "SE_b_0 = fit1.bse['Intercept']\n",
        "SE_b_1 = fit1.bse['X']\n",
        "\n",
        "print('Hypothesis test for the significance of parameter beta_0.')\n",
        "print('Null Hypothesis is that beta_0 = 0')\n",
        "print('Alternate Hypothesis is that beta_0 ! = 0')\n",
        "\n",
        "t_statistics = b_0/SE_b_0\n",
        "\n",
        "p_value = 2*t.sf(t_statistics,n-2)\n",
        "\n",
        "print('t_statistics = ',t_statistics, 'and p_value=',p_value)\n",
        "if p_value > alpha :\n",
        "  print(\"Failed to reject the null hypothesis for level of significance = \",alpha)\n",
        "else :\n",
        "  print(\"Null Hypothesis is rejected for level of significance =\",alpha)  \n",
        "\n",
        "print('\\nHypothesis test for the significance of parameter beta_1.')\n",
        "print('Null Hypothesis is that beta_1 = 0')\n",
        "print('Alternate Hypothesis is that beta_1 ! = 0')\n",
        "\n",
        "t_statistics = b_1/SE_b_1\n",
        "\n",
        "p_value = 2*t.sf(t_statistics,n-2)\n",
        "\n",
        "print('t_statistics = ',t_statistics, 'and p_value=',p_value)\n",
        "if p_value > alpha :\n",
        "  print(\"Failed to reject the null hypothesis for level of significance = \",alpha)\n",
        "else :\n",
        "  print(\"Null Hypothesis is rejected for level of significance =\" ,alpha)"
      ],
      "metadata": {
        "colab": {
          "base_uri": "https://localhost:8080/"
        },
        "id": "ip93Oeb2Jw8f",
        "outputId": "72f87f52-c48a-4a5e-aba9-80b45c74a5a2"
      },
      "execution_count": null,
      "outputs": [
        {
          "output_type": "stream",
          "name": "stdout",
          "text": [
            "Hypothesis test for the significance of parameter beta_0.\n",
            "Null Hypothesis is that beta_0 = 0\n",
            "Alternate Hypothesis is that beta_0 ! = 0\n",
            "t_statistics =  6.2733616262066585 and p_value= 2.8632427874786518e-05\n",
            "Null Hypothesis is rejected for level of significance = 0.05\n",
            "\n",
            "Hypothesis test for the significance of parameter beta_1.\n",
            "Null Hypothesis is that beta_1 = 0\n",
            "Alternate Hypothesis is that beta_1 ! = 0\n",
            "t_statistics =  16.36855573338143 and p_value= 4.68021549513953e-10\n",
            "Null Hypothesis is rejected for level of significance = 0.05\n"
          ]
        }
      ]
    },
    {
      "cell_type": "code",
      "source": [
        "corr_mat = np.corrcoef(X, Y)\n",
        "r = corr_mat[0,1]\n",
        "R_squared = r**2\n",
        "print(\"The coefficient of determination for the given regression model is \" ,R_squared)\n",
        "\n",
        "#if coefficient of determination (r^2) greater than 0.5 then the regression  model is good \n",
        "#if coefficient of determination (r^2) less than 0.5 then the regression  model is not  good \n",
        "\n",
        "#here coefficient of determination (r^2) is 0.95 which means the regression model is very good fit for the given dataset"
      ],
      "metadata": {
        "colab": {
          "base_uri": "https://localhost:8080/"
        },
        "id": "1uIRVwo-J0-A",
        "outputId": "78147437-7bf7-4dfd-c8dc-2e5b1920db76"
      },
      "execution_count": null,
      "outputs": [
        {
          "output_type": "stream",
          "name": "stdout",
          "text": [
            "The coefficient of determination for the given regression model is  0.9537250641344716\n"
          ]
        }
      ]
    }
  ]
}