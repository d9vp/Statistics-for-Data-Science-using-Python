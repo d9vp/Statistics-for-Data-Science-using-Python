{
  "nbformat": 4,
  "nbformat_minor": 0,
  "metadata": {
    "colab": {
      "provenance": [],
      "collapsed_sections": []
    },
    "kernelspec": {
      "name": "python3",
      "display_name": "Python 3"
    },
    "language_info": {
      "name": "python"
    }
  },
  "cells": [
    {
      "cell_type": "code",
      "execution_count": null,
      "metadata": {
        "id": "cW-7jr-E15pr"
      },
      "outputs": [],
      "source": [
        "import numpy as np\n",
        "import pandas as pd\n",
        "from scipy.stats import stats\n",
        "import scipy\n",
        "import statistics as st\n",
        "import math"
      ]
    },
    {
      "cell_type": "code",
      "source": [
        "def pvalue(test,prob):\n",
        "  if test=='two-tailed':\n",
        "    p_value = prob\n",
        "  else:\n",
        "    p_value = prob/2\n",
        "  return p_value"
      ],
      "metadata": {
        "id": "QkXL6-pe2ump"
      },
      "execution_count": null,
      "outputs": []
    },
    {
      "cell_type": "code",
      "source": [
        "age = [ 32,34,22,29,22,39,38,37,38,36,30]\n",
        "print(\"Null hypothesis is that average age is 30\")\n",
        "print(\"Alternate Hypothesis is that average age is not 30\")\n",
        "alpha = 0.05\n",
        "t_value, prob = stats.ttest_1samp(age,30)\n",
        "test = 'two-tailed'\n",
        "p_value = pvalue (test,prob)\n",
        "print(\"t-statistics is :\",t_value,\"and p-value is :\",p_value)\n",
        "if (p_value>alpha):\n",
        "  print(\"Failed to reject null hypothesis for level of significance=\",alpha)\n",
        "else:\n",
        "  print(\"Null Hypothesis is rejected for level of significance=\",alpha)"
      ],
      "metadata": {
        "colab": {
          "base_uri": "https://localhost:8080/"
        },
        "id": "oQHsAno827LH",
        "outputId": "1689b374-3600-49c9-be95-dc663cc43aec"
      },
      "execution_count": null,
      "outputs": [
        {
          "output_type": "stream",
          "name": "stdout",
          "text": [
            "Null hypothesis is that average age is 30\n",
            "Alternate Hypothesis is that average age is not 30\n",
            "t-statistics is : 1.3263370175675118 and p-value is : 0.21422150477795807\n",
            "Failed to reject null hypothesis for level of significance= 0.05\n"
          ]
        }
      ]
    },
    {
      "cell_type": "code",
      "source": [
        "marks = [10,20,35,50,28,40,55,18,16,55,30,25,65,18,43,23,21,20,19,70]\n",
        "print(\"Null hypothesis is that average scoe in math is equal to 50\")\n",
        "print(\"Alternate Hypothesis is that average score in math is less than 50\")\n",
        "alpha = 0.05\n",
        "t_value, prob = stats.ttest_1samp(marks,50)\n",
        "test = 'left-tailed'\n",
        "p_value = pvalue (test,prob)\n",
        "print(\"t-statistics is :\",t_value,\"and p-value is :\",p_value)\n",
        "if (p_value>alpha):\n",
        "  print(\"Failed to reject null hypothesis for level of significance=\",alpha)\n",
        "else:\n",
        "  print(\"Null Hypothesis is rejected for level of significance=\",alpha)"
      ],
      "metadata": {
        "colab": {
          "base_uri": "https://localhost:8080/"
        },
        "id": "sjLk6qNM4SZX",
        "outputId": "bdc3f358-0c86-4931-e49f-25d8a40b2d66"
      },
      "execution_count": null,
      "outputs": [
        {
          "output_type": "stream",
          "name": "stdout",
          "text": [
            "Null hypothesis is that average scoe in math is equal to 50\n",
            "Alternate Hypothesis is that average score in math is less than 50\n",
            "t-statistics is : -4.284640191237414 and p-value is : 0.00020006970464996746\n",
            "Null Hypothesis is rejected for level of significance= 0.05\n"
          ]
        }
      ]
    },
    {
      "cell_type": "code",
      "source": [
        "from scipy.stats import norm\n",
        "pop1_mean = 35\n",
        "pop2_mean = 10\n",
        "pop1_var = pop1_mean\n",
        "pop2_var = pop2_mean\n",
        "pop1_size = 150000\n",
        "pop2_size = 100000\n",
        "pop_comb_mean = (pop1_size*pop1_mean + pop2_size*pop2_mean)/(pop1_size+pop2_size)\n",
        "pop_comb_var = (pop1_size*pop1_var + pop2_size*pop2_var)/(pop1_size + pop2_size)+(pop1_size*pop2_size)*(pop1_mean - pop2_mean)**2/(pop1_size+pop2_size)**2\n",
        "pop_comb_std = math.sqrt(pop_comb_var)\n",
        "samp1_mean = 30\n",
        "samp2_mean = 10\n",
        "samp1_size = 30\n",
        "samp2_size = 20\n",
        "samp_comb_mean = (samp1_size*samp1_mean + samp2_size*samp2_mean)/(samp1_size + samp2_size)\n",
        "print(\"Null hypothesis is that mean age of Gujarat is equal to mean age of country\")\n",
        "print(\"Alternate hypothesis is that mean age of Gujaratis not equal to mean age of country\")\n",
        "alpha =0.05\n",
        "test = 'two-tailed'\n",
        "z_statistics = (samp_comb_mean - pop_comb_mean)/(pop_comb_std/math.sqrt(samp1_size + samp2_size))\n",
        "prob = 2*(norm.sf(abs(z_statistics)))\n",
        "p_value = pvalue (test,prob)\n",
        "print(\"z-statistics is :\",z_statistics,\"and p-value is :\",p_value)\n",
        "if (p_value>alpha):\n",
        "  print(\"Failed to reject null hypothesis for level of significance=\",alpha)\n",
        "else:\n",
        "  print(\"Null Hypothesis is rejected for level of significance=\",alpha)\n",
        "print(\"\\n\",pop_comb_mean, pop_comb_std, pop_comb_var, samp_comb_mean)"
      ],
      "metadata": {
        "colab": {
          "base_uri": "https://localhost:8080/"
        },
        "id": "Vz_TYXpn66il",
        "outputId": "976c403c-35a8-46b4-e828-270fcb308004"
      },
      "execution_count": null,
      "outputs": [
        {
          "output_type": "stream",
          "name": "stdout",
          "text": [
            "Null hypothesis is that mean age of Gujarat is equal to mean age of country\n",
            "Alternate hypothesis is that mean age of Gujaratis not equal to mean age of country\n",
            "z-statistics is : -1.6035674514745464 and p-value is : 0.10880943004054568\n",
            "Failed to reject null hypothesis for level of significance= 0.05\n",
            "\n",
            " 25.0 13.228756555322953 175.0 22.0\n"
          ]
        }
      ]
    }
  ]
}