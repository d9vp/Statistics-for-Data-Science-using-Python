{
  "nbformat": 4,
  "nbformat_minor": 0,
  "metadata": {
    "colab": {
      "provenance": [],
      "collapsed_sections": []
    },
    "kernelspec": {
      "name": "python3",
      "display_name": "Python 3"
    },
    "language_info": {
      "name": "python"
    }
  },
  "cells": [
    {
      "cell_type": "code",
      "metadata": {
        "id": "JaxsDYd5VFx1"
      },
      "source": [
        "import numpy as np\n",
        "from scipy import stats\n",
        "import statistics as st"
      ],
      "execution_count": null,
      "outputs": []
    },
    {
      "cell_type": "code",
      "metadata": {
        "id": "rAdGkfVEaGfY",
        "colab": {
          "base_uri": "https://localhost:8080/"
        },
        "outputId": "5cb1a635-c75f-4add-f8b0-f7274b8768c0"
      },
      "source": [
        "A = [20, 2, 7, 1, 34]\n",
        "print(\"Arithmetic mean of A = \",str(np.mean(A)))\n"
      ],
      "execution_count": null,
      "outputs": [
        {
          "output_type": "stream",
          "name": "stdout",
          "text": [
            "Arithmetic mean of A =  12.8\n"
          ]
        }
      ]
    },
    {
      "cell_type": "code",
      "metadata": {
        "colab": {
          "base_uri": "https://localhost:8080/"
        },
        "id": "Fsa1qgVzaZy4",
        "outputId": "48e028ae-8834-42eb-d92c-efd747563a0c"
      },
      "source": [
        "B = np.array([[14 ,17 ,12 ,33 ,44 ],[15,6 ,27,8 ,19],[23 ,2 ,54 ,1 ,4 ]])\n",
        "print(\"Mean of Matrix=\",np.mean(B))\n",
        "print(\"Columnwise mean=\",np.mean(B,axis = 0))\n",
        "print(\"Rowwise mean=\",np.mean(B,axis = 1))"
      ],
      "execution_count": null,
      "outputs": [
        {
          "output_type": "stream",
          "name": "stdout",
          "text": [
            "Mean of Matrix= 18.6\n",
            "Columnwise mean= [17.33333333  8.33333333 31.         14.         22.33333333]\n",
            "Rowwise mean= [24.  15.  16.8]\n"
          ]
        }
      ]
    },
    {
      "cell_type": "code",
      "metadata": {
        "colab": {
          "base_uri": "https://localhost:8080/"
        },
        "id": "Wpn1Fs2icCGY",
        "outputId": "63dfe7db-e93b-455c-c96f-3311a0020e54"
      },
      "source": [
        "C = np.array([[3,7,5],[8,4,3],[2,4,9]])\n",
        "print(\"Minimum of matrix=\",np.min(C))\n",
        "print(\"Columnwise minimum=\",np.min(C,axis=0))\n",
        "print(\"Rowwise minimum=\",np.min(C,axis=1))\n",
        "print(\"Maximum of matrix=\",np.max(C))\n",
        "print(\"Columnwise maximum=\",np.max(C,axis=0))\n",
        "print(\"Rowwise maximum=\",np.max(C,axis=1))\n",
        "print(\"Range of matrix=\",np.ptp(C))\n",
        "print(\"Columwise range=\",np.ptp(C,axis=0))\n",
        "print(\"Rowwise range=\",np.ptp(C,axis=1))"
      ],
      "execution_count": null,
      "outputs": [
        {
          "output_type": "stream",
          "name": "stdout",
          "text": [
            "Minimum of matrix= 2\n",
            "Columnwise minimum= [2 4 3]\n",
            "Rowwise minimum= [3 3 2]\n",
            "Maximum of matrix= 9\n",
            "Columnwise maximum= [8 7 9]\n",
            "Rowwise maximum= [7 8 9]\n",
            "Range of matrix= 7\n",
            "Columwise range= [6 3 6]\n",
            "Rowwise range= [4 5 7]\n"
          ]
        }
      ]
    },
    {
      "cell_type": "code",
      "metadata": {
        "colab": {
          "base_uri": "https://localhost:8080/"
        },
        "id": "FsmXKP2xdCik",
        "outputId": "b2a4e0a9-1135-4935-e3f9-3545d5a1f463"
      },
      "source": [
        "X = np.array([1,2,3,4])\n",
        "W = np.array([4,3,2,1])\n",
        "print(\"Weighted mean=\",np.average(X,weights=W))"
      ],
      "execution_count": null,
      "outputs": [
        {
          "output_type": "stream",
          "name": "stdout",
          "text": [
            "Weighted mean= 2.0\n"
          ]
        }
      ]
    },
    {
      "cell_type": "code",
      "metadata": {
        "colab": {
          "base_uri": "https://localhost:8080/"
        },
        "id": "ukZNLzw8e1ee",
        "outputId": "6fd80f3c-c549-405c-adf4-a1b9d73bb4f4"
      },
      "source": [
        "Speed = [99,86,87,88,111,86,103,87,94,78,77,85,86]\n",
        "print(\"Mean speed=\",np.mean(Speed))\n",
        "print(\"Median speed=\",np.median(Speed))\n",
        "from scipy import stats\n",
        "print(\"Modal speed=\",stats.mode(Speed))"
      ],
      "execution_count": null,
      "outputs": [
        {
          "output_type": "stream",
          "name": "stdout",
          "text": [
            "Mean speed= 89.76923076923077\n",
            "Median speed= 87.0\n",
            "Modal speed= ModeResult(mode=array([86]), count=array([3]))\n"
          ]
        }
      ]
    },
    {
      "cell_type": "code",
      "metadata": {
        "colab": {
          "base_uri": "https://localhost:8080/"
        },
        "id": "1YsvqWddfv81",
        "outputId": "63f424ca-a7fa-464e-c972-91b3a650692f"
      },
      "source": [
        "from scipy.stats.mstats import gmean\n",
        "G = np.array([[1,3,27],[3,4,6],[7,6,3],[3,6,8]])\n",
        "print(\"Geometric mean of matrix=\",gmean(gmean(G)))\n",
        "print(\"Columnwise mean of matrix=\",gmean(G,axis=0))\n",
        "print(\"Rowwise mean of matrix=\",gmean(G,axis=1))"
      ],
      "execution_count": null,
      "outputs": [
        {
          "output_type": "stream",
          "name": "stdout",
          "text": [
            "Geometric mean of matrix= 4.663506066439651\n",
            "Columnwise mean of matrix= [2.81731325 4.55901411 7.89644408]\n",
            "Rowwise mean of matrix= [4.32674871 4.16016765 5.01329793 5.24148279]\n"
          ]
        }
      ]
    },
    {
      "cell_type": "code",
      "metadata": {
        "colab": {
          "base_uri": "https://localhost:8080/"
        },
        "id": "4K4-paCIhOh6",
        "outputId": "df1de550-a076-4c56-8148-3b30d8922fe7"
      },
      "source": [
        "H = [1,3,5,7,9]\n",
        "print(\"Harmonic mean =\",st.harmonic_mean(H))"
      ],
      "execution_count": null,
      "outputs": [
        {
          "output_type": "stream",
          "name": "stdout",
          "text": [
            "Harmonic mean = 2.797513321492007\n"
          ]
        }
      ]
    },
    {
      "cell_type": "code",
      "metadata": {
        "colab": {
          "base_uri": "https://localhost:8080/"
        },
        "id": "bUHZpUAKht2q",
        "outputId": "4eafe415-cc54-4136-aff9-8112ccd25650"
      },
      "source": [
        "M = np.array([[30,65,70],[80,95,10],[50,90,60]])\n",
        "print(\"Median of matrix=\",np.median(M))\n",
        "print(\"Columnwise median=\",np.median(M,axis=0))\n",
        "print(\"Rowwise median=\",np.median(M,axis=1))"
      ],
      "execution_count": null,
      "outputs": [
        {
          "output_type": "stream",
          "name": "stdout",
          "text": [
            "Median of matrix= 65.0\n",
            "Columnwise median= [50. 90. 60.]\n",
            "Rowwise median= [65. 80. 60.]\n"
          ]
        }
      ]
    },
    {
      "cell_type": "code",
      "metadata": {
        "colab": {
          "base_uri": "https://localhost:8080/"
        },
        "id": "4pg8ZnNTj5G3",
        "outputId": "f5b2d487-742b-4980-b8b8-681e0551be6c"
      },
      "source": [
        "A = np.array([[0,0.99,2,0],[1,1.99,4,0],[2,2.99,6,0],[3,3.99,7,0],[4,4.99,5,0],[5,5.99,3,0],[6,6.99,1,0]])\n",
        "def grouped_mean(A):\n",
        "  n = len(A)\n",
        "  sum =0\n",
        "  f=0\n",
        "  for i in range(n):\n",
        "    sum = sum + (((A[i][0]+A[i][1])/2)*A[i][2])\n",
        "    f = f+ A[i][2]\n",
        "  mean = sum/f\n",
        "  return mean\n",
        "\n",
        "def grouped_median(A):\n",
        "  n = len(A)\n",
        "  f = 0\n",
        "  for i in range (n):\n",
        "    if i ==0:\n",
        "      A[i][3] = A[i][2]\n",
        "    else:\n",
        "      A[i][3] = A[i-1][3] + A[i][2]\n",
        "    f = f + A[i][2]\n",
        "  mid = f/2\n",
        "  for i in range (1,n):\n",
        "    if (A[i-1][3]< mid <= A[i][3]):\n",
        "      med_class = i\n",
        "  median = A[med_class][0] + (A[med_class][1] - A [med_class][0])*(mid - A[med_class -1][3])/A[med_class][2]\n",
        "  return (median)\n",
        "def grouped_mode(A):\n",
        "  n = len(A)\n",
        "  mod_class = 0\n",
        "  for i in range (n):\n",
        "    if (A[i][2]> A[mod_class][2]):\n",
        "      mod_class = i\n",
        "  mode = A[mod_class][0] + (A[mod_class][1] - A [mod_class][0])*((A[mod_class][2]-A[mod_class -1][2])/(2*A[mod_class][2]-A[mod_class-1][2]-A[mod_class +1][2]))\n",
        "  return mode\n",
        "print(\"Mean of data =\",grouped_mean(A))\n",
        "print(\"Median of data =\",grouped_median(A))\n",
        "print(\"Mode of data =\",grouped_mode(A))\n",
        "print(\"The mean of the data is a calculated value whereas the median and the mode of the data are observed values only. In this case there are no extreme outliers, so in this case, the mean best reflects the central tendency of the data.\")"
      ],
      "execution_count": null,
      "outputs": [
        {
          "output_type": "stream",
          "name": "stdout",
          "text": [
            "Mean of data = 3.2807142857142857\n",
            "Median of data = 3.282857142857143\n",
            "Mode of data = 3.33\n",
            "The mean of the data is a calculated value whereas the median and the mode of the data are observed values only. In this case there are no extreme outliers, so in this case, the mean best reflects the central tendency of the data.\n"
          ]
        }
      ]
    },
    {
      "cell_type": "code",
      "metadata": {
        "colab": {
          "base_uri": "https://localhost:8080/"
        },
        "id": "74I7P6Wxsh80",
        "outputId": "b12abab7-8620-4dfc-fc57-4367d30cc596"
      },
      "source": [
        "A = [30,40,72,83,25,10,50,90,60,15,5,9,34,23,67,80,67,45]\n",
        "def percentile(A,p):\n",
        "  A.sort()\n",
        "  n = len(A)\n",
        "  pr = p*(n+1)/100\n",
        "  i = int(pr) - 1\n",
        "  fr = pr - int(pr)\n",
        "  ans = A[i] + fr*(A[i+1]-A[i])\n",
        "  return ans\n",
        "print(\"30th percentile =\",percentile(A,30))\n",
        "print(\"50th percentile =\",percentile(A,50))\n",
        "print(\"75th percentile =\",percentile(A,75))\n",
        "print(\"90th percentile =\",percentile(A,90))"
      ],
      "execution_count": null,
      "outputs": [
        {
          "output_type": "stream",
          "name": "stdout",
          "text": [
            "30th percentile = 24.4\n",
            "50th percentile = 42.5\n",
            "75th percentile = 68.25\n",
            "90th percentile = 83.70000000000002\n"
          ]
        }
      ]
    },
    {
      "cell_type": "code",
      "metadata": {
        "colab": {
          "base_uri": "https://localhost:8080/"
        },
        "id": "WctCMXMEwbIx",
        "outputId": "98eaf1fa-16ce-4489-ccff-402ca51bef59"
      },
      "source": [
        "B = np.array([51, 38, 79, 46, 57])\n",
        "print(\"Standard deviation of sample =\",st.stdev(B))\n",
        "print(\"Standard deviation of population =\",np.std(B))"
      ],
      "execution_count": null,
      "outputs": [
        {
          "output_type": "stream",
          "name": "stdout",
          "text": [
            "Standard deviation of sample = 15.491933384829668\n",
            "Standard deviation of population = 13.876599006961325\n"
          ]
        }
      ]
    },
    {
      "cell_type": "code",
      "metadata": {
        "colab": {
          "base_uri": "https://localhost:8080/"
        },
        "id": "vqhIEvs5GH-v",
        "outputId": "19d0e176-0767-4a29-e7a4-f1e7d8ace068"
      },
      "source": [
        "A = [91, 79, 66, 98, 127, 139 ,154 ,147 ,192 ,88 ,97 ,92 ,87 ,142 ,127 ,184 ,145 ,162 ,95 ,89 ,86 ,98 ,145 ,129 ,149 ,158 ,241]\n",
        "f1=f2=f3=f4=f5=f6=f7=f8 = 0\n",
        "for i in A:\n",
        "  if (66<=i<=87):\n",
        "    f1 = f1 +1\n",
        "  elif(88<=i<=109):\n",
        "    f2 = f2 +1\n",
        "  elif(110<=i<=131):\n",
        "    f3 = f3 +1\n",
        "  elif(132<=i<=153):\n",
        "    f4 = f4 +1\n",
        "  elif(154<=i<=175):\n",
        "    f5 = f5 +1\n",
        "  elif(176<=i<=197):\n",
        "    f6 = f6 +1\n",
        "  elif(198<=i<=219):\n",
        "    f7 = f7 +1\n",
        "  elif(220<=i<=241):\n",
        "    f8 = f8 +1\n",
        "print(\"Frequency Distribution table is as follows:\")\n",
        "print(\"Interval\\tFrequency\")\n",
        "print(\"66-87\\t\\t\",f1)\n",
        "print(\"88-109\\t\\t\",f2)\n",
        "print(\"110-132\\t\\t\",f3)\n",
        "print(\"132-153\\t\\t\",f4)\n",
        "print(\"154-175\\t\\t\",f5)\n",
        "print(\"176-197\\t\\t\",f6)\n",
        "print(\"198-219\\t\\t\",f7)\n",
        "print(\"220-241\\t\\t\",f8)\n",
        "B = np.array([[66,87,f1,0],[88,109,f2,0],[110,131,f3,0],[132,153,f4,0],[154,175,f5,0],[176,197,f6,0],[198,219,f7,0],[220,241,f8,0]])\n",
        "print(\"Estimated modal value =\",grouped_mode(B))\n",
        "print(\"Mean of raw data =\",np.mean(A))\n",
        "print(\"In the frequency distribution table, we can see that the frequencies are higher in the first half. As the mean has been influenced by extreme values, outliers, it does not give the best idea of the central tendency of the data. In this case, mode gives a better idea of the same.\")"
      ],
      "execution_count": null,
      "outputs": [
        {
          "output_type": "stream",
          "name": "stdout",
          "text": [
            "Frequency Distribution table is as follows:\n",
            "Interval\tFrequency\n",
            "66-87\t\t 4\n",
            "88-109\t\t 8\n",
            "110-132\t\t 3\n",
            "132-153\t\t 6\n",
            "154-175\t\t 3\n",
            "176-197\t\t 2\n",
            "198-219\t\t 0\n",
            "220-241\t\t 1\n",
            "Estimated modal value = 97.33333333333333\n",
            "Mean of raw data = 126.18518518518519\n",
            "In the frequency distribution table, we can see that the frequencies are higher in the first half. As the mean has been influenced by extreme values, outliers, it does not give the best idea of the central tendency of the data. In this case, mode gives a better idea of the same.\n"
          ]
        }
      ]
    },
    {
      "cell_type": "code",
      "metadata": {
        "colab": {
          "base_uri": "https://localhost:8080/"
        },
        "id": "EF-73JvTxreF",
        "outputId": "ef78f404-45b9-4b52-f875-a9cca32da062"
      },
      "source": [
        "W = [6.3, 7.2, 7.3, 8.1, 7.8, 6.8, 7.5, 7.8, 7.2, 7.5, 8.1, 8.2 ,8.0, 7.4, 7.6, 7.7, 7.6, 7.4, 7.5, 8.4, 7.4, 7.6, 6.2, 7.4]\n",
        "mean = np.mean(W)\n",
        "stddev = np.std(W)\n",
        "print(\"Mean =\",mean,\" Standard deviation =\",stddev)\n",
        "if(mean == 7.5 and stddev<0.5):\n",
        "  print(\"The batch will be accepted.\")\n",
        "else:\n",
        "  print(\"The chef will not accept the batch.\")"
      ],
      "execution_count": null,
      "outputs": [
        {
          "output_type": "stream",
          "name": "stdout",
          "text": [
            "Mean = 7.5  Standard deviation = 0.5163977794943222\n",
            "The chef will not accept the batch.\n"
          ]
        }
      ]
    },
    {
      "cell_type": "code",
      "metadata": {
        "colab": {
          "base_uri": "https://localhost:8080/"
        },
        "id": "szP0-LhlygJx",
        "outputId": "50d68c0b-891b-4403-833d-c3a6f3e7f88b"
      },
      "source": [
        "avg1 = 32.11\n",
        "var1 = 68.09\n",
        "sd1 = var1**0.5\n",
        "rv1 = (sd1/avg1)*100\n",
        "avg2 = 19.75\n",
        "var2 = 71.14\n",
        "sd2 = var2**0.5\n",
        "rv2 = (sd2/avg2)*100\n",
        "print(\"Coefficient of variation of both programs are %f and %f respectively.\"%(rv1,rv2))\n",
        "if (rv1<rv2):\n",
        "  print(\"Training program A has lesser variability than variable B.\")\n",
        "else:\n",
        "  print(\"Training program B has lesser variability than variable A.\")\n"
      ],
      "execution_count": null,
      "outputs": [
        {
          "output_type": "stream",
          "name": "stdout",
          "text": [
            "Coefficient of variation of both programs are 25.698121 and 42.706092 respectively.\n",
            "Training program A has lesser variability than variable B.\n"
          ]
        }
      ]
    },
    {
      "cell_type": "code",
      "source": [
        "# DAY\n",
        "day = [99, 56, 78, 55.5, 32, 90, 80, 81, 56, 59, 45, 77, 84.5, 84, 70, 72, 68, 32, 79, 90]\n",
        "day.sort()\n",
        "c1 = 0\n",
        "c2 = 0\n",
        "c3 = 0\n",
        "c4 = 0\n",
        "c5 = 0\n",
        "print(\"Sorted Day: \", day)\n",
        "median_day = np.median(day)\n",
        "print(\"Smallest Value is:\", *day[:1]);\n",
        "print(\"Largest Value is:\", *day[-1:])\n",
        "print(\"Median is:\", median_day)\n",
        "q1 = np.quantile(day, 0.25)\n",
        "q3 = np.quantile(day, 0.75)\n",
        "print(\"1st Quartile of Day class is:\", q1)\n",
        "print(\"3rd Quartile of Day class is:\", q3)\n",
        "for i in day:\n",
        "  if(i<=56):\n",
        "    c1 = c1 + 1\n",
        "    i = i + 1\n",
        "print(c1)\n",
        "p1 = (c1/len(day))*100\n",
        "print(p1, \"% of the data is between the smallest value and the first quartile.\")\n",
        "for i in day:\n",
        "  if(i>=q1 and i<=median_day):\n",
        "    c2 = c2 + 1\n",
        "    i = i + 1\n",
        "print(c2)\n",
        "p2 = (c2/len(day))*100\n",
        "print(p2, \"% of the data is between the first quartile and the median.\")\n",
        "for i in day:\n",
        "  if(i>=median_day and i<=q3):\n",
        "    c3 = c3 + 1\n",
        "    i = i + 1\n",
        "print(c3)\n",
        "p3 = (c3/len(day))*100\n",
        "print(p3, \"% of the data is between the median and the third quartile.\")\n",
        "for i in day:\n",
        "  if(i>=q3 and i<=99):\n",
        "    c4 = c4 + 1\n",
        "    i = i + 1\n",
        "print(c4)\n",
        "p4 = (c4/len(day))*100\n",
        "print(p4, \"% of the data is between the third quartile and the largest value.\")\n",
        "for i in day:\n",
        "  if(i>=q1 and i<=99):\n",
        "    c5 = c5 + 1\n",
        "    i = i + 1\n",
        "print(c5)\n",
        "p5 = (c5/len(day))*100\n",
        "print(p5, \"% of the data is between the first quartile and the largest value.\")\n",
        "# NIGHT\n",
        "night = [98, 78, 68, 83, 81, 89, 88, 76, 65, 45, 98, 90, 80, 84.5, 85, 79, 78, 98, 90, 79, 81, 25.5]\n",
        "night.sort()\n",
        "n1 = 0\n",
        "n2 = 0\n",
        "n3 = 0\n",
        "n4 = 0\n",
        "n5 = 0\n",
        "print(\"Sorted night: \", night)\n",
        "median_night = np.median(night)\n",
        "print(\"Smallest Value is:\", *night[:1]);\n",
        "print(\"Largest Value is:\", *night[-1:])\n",
        "print(\"Median is:\", np.median(night))\n",
        "qn_1 = np.quantile(night, 0.25)\n",
        "qn_3 = np.quantile(night, 0.75)\n",
        "print(\"1st Quartile of night class is:\", qn_1)\n",
        "print(\"3rd Quartile of night class is:\", qn_3)\n",
        "for i in night:\n",
        "  if(i<=qn_1):\n",
        "    n1 = n1 + 1\n",
        "    i = i + 1\n",
        "p_n1 = (n1/len(night))*100\n",
        "print(p_n1, \"% of the data is between the smallest value and the first quartile.\")\n",
        "for i in night:\n",
        "  if(i>=qn_1 and i<=median_night):\n",
        "    n2 = n2 + 1\n",
        "    i = i + 1\n",
        "p_n2 = (n2/len(night))*100\n",
        "print(p_n2, \"% of the data is between the first quartile and the median.\")\n",
        "for i in night:\n",
        "  if(i>=median_night and i<=qn_3):\n",
        "    n3 = n3 + 1\n",
        "    i = i + 1\n",
        "p_n3 = (n3/len(night))*100\n",
        "print(p_n3, \"% of the data is between the median and the third quartile.\")\n",
        "for i in night:\n",
        "  if(i>=qn_3 and i<=98):\n",
        "    n4 = n4 + 1\n",
        "    i = i + 1\n",
        "p_n4 = (n4/len(night))*100\n",
        "print(p_n4, \"% of the data is between the third quartile and the largest value.\")\n",
        "for i in night:\n",
        "  if(i>=qn_1 and i<=98):\n",
        "    n5 = n5 + 1\n",
        "    i = i + 1\n",
        "p_n5 = (n5/len(night))*100\n",
        "print(p_n5, \"% of the data is between the first quartile and the largest value.\")\n",
        "# BOX PLOT\n",
        "print(\"Box plot for day and night test scores:\")\n",
        "plt.boxplot((day,night))\n",
        "print(\"The day test scores has widest spread for the middle 50% of the data, which means the day test scores of students are not consistent as compared to night scores.\")\n"
      ],
      "metadata": {
        "id": "y0iXl8IPmk13",
        "colab": {
          "base_uri": "https://localhost:8080/",
          "height": 823
        },
        "outputId": "39cd57b9-9cc3-4a90-c9b0-839dee86c16c"
      },
      "execution_count": null,
      "outputs": [
        {
          "output_type": "stream",
          "name": "stdout",
          "text": [
            "Sorted Day:  [32, 32, 45, 55.5, 56, 56, 59, 68, 70, 72, 77, 78, 79, 80, 81, 84, 84.5, 90, 90, 99]\n",
            "Smallest Value is: 32\n",
            "Largest Value is: 99\n",
            "Median is: 74.5\n",
            "1st Quartile of Day class is: 56.0\n",
            "3rd Quartile of Day class is: 81.75\n",
            "6\n",
            "30.0 % of the data is between the smallest value and the first quartile.\n",
            "6\n",
            "30.0 % of the data is between the first quartile and the median.\n",
            "5\n",
            "25.0 % of the data is between the median and the third quartile.\n",
            "5\n",
            "25.0 % of the data is between the third quartile and the largest value.\n",
            "16\n",
            "80.0 % of the data is between the first quartile and the largest value.\n",
            "Sorted night:  [25.5, 45, 65, 68, 76, 78, 78, 79, 79, 80, 81, 81, 83, 84.5, 85, 88, 89, 90, 90, 98, 98, 98]\n",
            "Smallest Value is: 25.5\n",
            "Largest Value is: 98\n",
            "Median is: 81.0\n",
            "1st Quartile of night class is: 78.0\n",
            "3rd Quartile of night class is: 88.75\n",
            "31.818181818181817 % of the data is between the smallest value and the first quartile.\n",
            "31.818181818181817 % of the data is between the first quartile and the median.\n",
            "27.27272727272727 % of the data is between the median and the third quartile.\n",
            "27.27272727272727 % of the data is between the third quartile and the largest value.\n",
            "77.27272727272727 % of the data is between the first quartile and the largest value.\n",
            "Box plot for day and night test scores:\n",
            "The day test scores has widest spread for the middle 50% of the data, which means the day test scores of students are not consistent as compared to night scores.\n"
          ]
        },
        {
          "output_type": "stream",
          "name": "stderr",
          "text": [
            "/usr/local/lib/python3.7/dist-packages/numpy/core/_asarray.py:83: VisibleDeprecationWarning: Creating an ndarray from ragged nested sequences (which is a list-or-tuple of lists-or-tuples-or ndarrays with different lengths or shapes) is deprecated. If you meant to do this, you must specify 'dtype=object' when creating the ndarray\n",
            "  return array(a, dtype, copy=False, order=order)\n"
          ]
        },
        {
          "output_type": "display_data",
          "data": {
            "image/png": "[encoded data removed]",
            "text/plain": [
              "<Figure size 432x288 with 1 Axes>"
            ]
          },
          "metadata": {
            "needs_background": "light"
          }
        }
      ]
    }
  ]
}