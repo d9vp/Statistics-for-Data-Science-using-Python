{
  "nbformat": 4,
  "nbformat_minor": 0,
  "metadata": {
    "colab": {
      "provenance": [],
      "collapsed_sections": []
    },
    "kernelspec": {
      "name": "python3",
      "display_name": "Python 3"
    },
    "language_info": {
      "name": "python"
    }
  },
  "cells": [
    {
      "cell_type": "code",
      "execution_count": null,
      "metadata": {
        "id": "ZYkUOg7PuxjI"
      },
      "outputs": [],
      "source": [
        "import numpy as np\n",
        "import pandas as pd\n",
        "import math\n",
        "import scipy.stats as stats\n",
        "import statistics as st"
      ]
    },
    {
      "cell_type": "code",
      "source": [
        "def one_sample_proportion_test(P,p_hat,alpha,n, alternative):\n",
        "  print(\"One sample,\",alternative,\"Z test of proportion\")\n",
        "  print(\"____\\n\")\n",
        "  "
      ],
      "metadata": {
        "id": "hlCs6qflvXP6"
      },
      "execution_count": null,
      "outputs": []
    },
    {
      "cell_type": "code",
      "source": [
        "from statsmodels.stats.proportion import proportions_ztest\n",
        "print(\"Null hypothesis is 80% of students pass the exam i.e. p_hat =80%\")\n",
        "print(\"Alternate Hypothesis is more than 80% students pass the exam i.e. p_hat>80\")\n",
        "P=0.8\n",
        "alpha = 0.05\n",
        "samp_size=500\n",
        "samp_success=410\n",
        "z_statistics,p_value=proportions_ztest(count = samp_success, nobs = samp_size, value = P,alternative='large')\n",
        "print(\"z-statistics is:\",z_statistics,\"and p-value is:\",p_value)\n",
        "if p_value>alpha:\n",
        "  print(\"Failed to reject null hypothesis for level of significance=\",alpha)\n",
        "else:\n",
        "  print(\"Null hypothesis rejected for level of significance=\",alpha)\n"
      ],
      "metadata": {
        "id": "GhEHnWLbwZ5b"
      },
      "execution_count": null,
      "outputs": []
    },
    {
      "cell_type": "code",
      "source": [
        "def pvalue(test,prob):\n",
        "  if test =='two-tailed':\n",
        "    p_value = prob\n",
        "  else:\n",
        "    p_value = prob/2\n",
        "  return p_value"
      ],
      "metadata": {
        "id": "pN8iq1_RpcB8"
      },
      "execution_count": null,
      "outputs": []
    },
    {
      "cell_type": "code",
      "source": [
        "p_m =15.6\n",
        "p_sd = 2.2\n",
        "s_m = 14.5\n",
        "s_n = 50\n",
        "alpha = 0.05\n",
        "test = 'two-tailed'\n",
        "se=p_sd/math.sqrt(s_n)\n",
        "z_stats = (s_m-p_m)/se\n",
        "prob = 2*stats.norm.sf(abs(z_stats))\n",
        "p_value = pvalue(test,prob)\n",
        "print(\"z-stats=\",z_stats,\"p_value\",p_value)\n",
        "if (p_value>alpha):\n",
        "  print(\"Failed to reject null hypothesis for level of significance=\",alpha)\n",
        "else:\n",
        "  print(\"Null Hypothesis is rejected for level of significance=\",alpha)"
      ],
      "metadata": {
        "id": "OJSA0qPh60qA",
        "colab": {
          "base_uri": "https://localhost:8080/"
        },
        "outputId": "f204c003-71f3-4da1-c0d0-2062b4296223"
      },
      "execution_count": null,
      "outputs": [
        {
          "output_type": "stream",
          "name": "stdout",
          "text": [
            "z-stats= -3.5355339059327364 p_value 0.0004069520174449609\n",
            "Null Hypothesis is rejected for level of significance= 0.05\n"
          ]
        }
      ]
    },
    {
      "cell_type": "code",
      "source": [
        "print(\"Null hypothesis is that the mean value of systolic blood pressure measured on arm and finger are same ie sm_1 = sm_2\")\n",
        "print(\"Alternate Hypothesis is that the mean value of systolic blood pressure measure opn arm and finger are differentie s_m1 != s_m_2\")\n",
        "z_statistics,p_value = stats.ztest(data['arrays'],data['fingsys'],value = 0,alternative = 'two-sided')\n",
        "print(\"z-statistics is :\",z_statistics,\"p-value =\",p_value)\n",
        "alpha = 0.05\n",
        "if p_value > alpha:\n",
        "  print(\"Failed to reject null hypothesis for level of significance =\",alpha)\n",
        "else:\n",
        "  print(\"Null hypothesis is rejected for level of significance =\",alpha)"
      ],
      "metadata": {
        "id": "7l8SMUUBqEQm"
      },
      "execution_count": null,
      "outputs": []
    },
    {
      "cell_type": "code",
      "source": [
        "corona['Temp_Cat'] = corona ['Temperature'].apply(lambda x :0 if x<24 else 1)\n",
        "corona_t = [['Confirmed','Temp_Cat']]\n",
        "s_1 = corona_t[(corona_t['Temp_Cat']==1)]['Confirmed']\n",
        "s_2 = corona_t[(corona_t['Temp_Cat']==0)]['Confirmed']"
      ],
      "metadata": {
        "id": "MIehm_2Csm6X"
      },
      "execution_count": null,
      "outputs": []
    },
    {
      "cell_type": "code",
      "source": [
        "print(\"Null hypothesis is that temperature of climate is not significant to corona outbreak ie s_m_1 = s_m_2\")\n",
        "print(\"Alternate hypothesis is that warm climate is more resistant to the corona outbreak as compsared to cold climate ie s_m_1!=s_m_2\")\n",
        "test = 'two-tailed'\n",
        "alpha = 0.05\n",
        "s_m_1 = st.mean(s_1)\n",
        "s_m_2 = st.mean(s_2)\n",
        "s_sd_1= st.stdev(s_1)\n",
        "s_sd_2= st.stdev(s_1)\n",
        "s_n_1 = len(s_1)\n",
        "s_n_2 = len(s_2)\n",
        "value = 0\n",
        "z_statistics = (s_m_1 - s_m_2 - value)/math.sqrt(((s_sd_1**2/s_n_1)+(s_sd_2**2/s_n_2)))\n",
        "prob = 2*stats.norm.sf(abs(z_statistics))\n",
        "p_value = pvalue(test,prob)\n",
        "print(\"z-stats=\",z_statistics,\"p_value\",p_value)\n",
        "if (p_value>alpha):\n",
        "  print(\"Failed to reject null hypothesis for level of significance=\",alpha)\n",
        "else:\n",
        "  print(\"Null Hypothesis is rejected for level of significance=\",alpha)\n",
        "#3 idhar tak i doubt kuch sahi hai"
      ],
      "metadata": {
        "id": "FCn2wGIfvEtZ"
      },
      "execution_count": null,
      "outputs": []
    },
    {
      "cell_type": "code",
      "source": [
        "#Q11\n",
        "print(\"Null hypothesis is that the differences between the averages of two classes is 40 ie |s_m_1 - s_m_2|=40\")\n",
        "print(\"Alternate hypothesis is that the differences between the averages of two classes is not equal to 40 ie |s_m_1 - s_m_2| !=40\")\n",
        "test = 'two-tailed'\n",
        "alpha = 0.05\n",
        "s_m_1 = 380\n",
        "s_m_2 = 410\n",
        "s_sd_1= 120\n",
        "s_sd_2= 80\n",
        "s_n_1 = 400\n",
        "s_n_2 = 600\n",
        "value = 40\n",
        "z_statistics = (abs(s_m_1 - s_m_2) - value)/math.sqrt(((s_sd_1**2/s_n_1)+(s_sd_2**2/s_n_2)))\n",
        "prob = 2*stats.norm.sf(abs(z_statistics))\n",
        "p_value = pvalue(test,prob)\n",
        "print(\"z-stats=\",z_statistics,\"p_value\",p_value)\n",
        "if (p_value>alpha):\n",
        "  print(\"Failed to reject null hypothesis for level of significance=\",alpha)\n",
        "else:\n",
        "  print(\"Null Hypothesis is rejected for level of significance=\",alpha)\n"
      ],
      "metadata": {
        "colab": {
          "base_uri": "https://localhost:8080/"
        },
        "id": "J0AoKOI-yWHv",
        "outputId": "25a4927f-783e-4ce9-cf4e-6e004c1795f1"
      },
      "execution_count": null,
      "outputs": [
        {
          "output_type": "stream",
          "name": "stdout",
          "text": [
            "Null hypothesis is that the differences between the averages of two classes is 40 ie |s_m_1 - s_m_2|=40\n",
            "Alternate hypothesis is that the differences between the averages of two classes is not equal to 40 ie |s_m_1 - s_m_2| !=40\n",
            "z-stats= -1.4638501094227998 p_value 0.14323490752466972\n",
            "Failed to reject null hypothesis for level of significance= 0.05\n"
          ]
        }
      ]
    },
    {
      "cell_type": "code",
      "source": [
        "#Q12\n",
        "print(\"Null hypothesis is that the differences of the means will exceed 0.3s where s is the smaller standard deviation i.e., |s_m_1 - s_m_2|>=0.3s\")\n",
        "print(\"Alternate hypothesis is that the differences of the means will not exceed 0.3s where s is the smaller standard deviation i.e., |s_m_1 - s_m_2|<0.3s\")\n",
        "test = 'left-tailed'\n",
        "alpha = 0.05\n",
        "s_m_1 = 10\n",
        "s_m_2 = 10\n",
        "s_sd_1= 2\n",
        "s_sd_2= 4\n",
        "s_n_1 = 500\n",
        "s_n_2 = 500\n",
        "value = 0.3*s_sd_1\n",
        "z_statistics = (abs(s_m_1 - s_m_2) - value)/math.sqrt(((s_sd_1**2/s_n_1)+(s_sd_2**2/s_n_2)))\n",
        "prob = 2*stats.norm.sf(abs(z_statistics))\n",
        "p_value = pvalue(test,prob)\n",
        "print(\"z-stats=\",z_statistics,\"p_value\",p_value)\n",
        "if (p_value>alpha):\n",
        "  print(\"Failed to reject null hypothesis for level of significance=\",alpha)\n",
        "else:\n",
        "  print(\"Null Hypothesis is rejected for level of significance=\",alpha)\n"
      ],
      "metadata": {
        "colab": {
          "base_uri": "https://localhost:8080/"
        },
        "id": "KPnVaYkO0wak",
        "outputId": "9d521f44-9179-416e-a076-a53ce33ae6af"
      },
      "execution_count": null,
      "outputs": [
        {
          "output_type": "stream",
          "name": "stdout",
          "text": [
            "Null hypothesis is that the differences of the means will exceed 0.3s where s is the smaller standard deviation i.e., |s_m_1 - s_m_2|>=0.3s\n",
            "Alternate hypothesis is that the differences of the means will not exceed 0.3s where s is the smaller standard deviation i.e., |s_m_1 - s_m_2|<0.3s\n",
            "z-stats= -2.9999999999999996 p_value 0.0013498980316300959\n",
            "Null Hypothesis is rejected for level of significance= 0.05\n"
          ]
        }
      ]
    }
  ]
}