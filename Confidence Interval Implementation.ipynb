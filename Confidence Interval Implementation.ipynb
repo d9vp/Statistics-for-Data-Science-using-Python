{
  "nbformat": 4,
  "nbformat_minor": 0,
  "metadata": {
    "colab": {
      "provenance": []
    },
    "kernelspec": {
      "name": "python3",
      "display_name": "Python 3"
    },
    "language_info": {
      "name": "python"
    }
  },
  "cells": [
    {
      "cell_type": "code",
      "execution_count": null,
      "metadata": {
        "id": "l6fzjrTFg3Gw"
      },
      "outputs": [],
      "source": [
        "import numpy as np\n",
        "import scipy\n",
        "import statistics as st\n",
        "import math\n",
        "import matplotlib.pyplot as plt"
      ]
    },
    {
      "cell_type": "code",
      "source": [
        "from scipy.stats import norm\n",
        "p1 = norm.cdf(1.5)\n",
        "p2 = norm.sf(0.5)\n",
        "print(\"P(Z<1.5) =\",p1)\n",
        "print(\"P(Z>0.5) =\",p2)\n",
        "p3 = norm.cdf(1.5) - norm.cdf(-1.5)\n",
        "p4 = norm.cdf(-0.5) + norm.sf(0.5)\n",
        "print(\"P(|Z|<1.5) =\",p3)\n",
        "print(\"P(|Z|>0.5) =\",p4)\n",
        "p5 = norm.cdf(1) - norm.cdf(-2.2)\n",
        "print(\"(P-2.2<Z<1) =\",p5)"
      ],
      "metadata": {
        "colab": {
          "base_uri": "https://localhost:8080/"
        },
        "id": "BXniCEcDhHqE",
        "outputId": "5e6dbf0b-ff0e-482b-a1dd-6d3eb5275336"
      },
      "execution_count": null,
      "outputs": [
        {
          "output_type": "stream",
          "name": "stdout",
          "text": [
            "P(Z<1.5) = 0.9331927987311419\n",
            "P(Z>0.5) = 0.3085375387259869\n",
            "P(|Z|<1.5) = 0.8663855974622838\n",
            "P(|Z|>0.5) = 0.6170750774519738\n",
            "(P-2.2<Z<1) = 0.8274412985550443\n"
          ]
        }
      ]
    },
    {
      "cell_type": "code",
      "source": [
        "print(\"Value of Z_0 satisfying equation (P(Z<Z_0) = 0.90) is\",norm.ppf(0.9))\n",
        "print(\"Value of Z_0 satisfying equation (P(Z<Z_0) = 0.95) is\",norm.ppf(0.95))\n",
        "print(\"Value of Z_0 satisfying equation (P(Z<Z_0) = 0.99) is\",norm.ppf(0.99))\n",
        "print(\"Value of Z_0 satisfying equation (P(|Z|<Z_0) = 0.90) is\",norm.ppf(0.95))\n",
        "print(\"Value of Z_0 satisfying equation (P(|Z|<Z_0) = 0.95) is\",norm.ppf(0.975))\n",
        "print(\"Value of Z_0 satisfying equation (P(|Z|<Z_0) = 0.99) is\",norm.ppf(0.995))"
      ],
      "metadata": {
        "colab": {
          "base_uri": "https://localhost:8080/"
        },
        "id": "m13mzPtehiHx",
        "outputId": "5006e6cd-4780-44b0-d541-5f0aded566e6"
      },
      "execution_count": null,
      "outputs": [
        {
          "output_type": "stream",
          "name": "stdout",
          "text": [
            "Value of Z_0 satisfying equation (P(Z<Z_0) = 0.90) is 1.2815515655446004\n",
            "Value of Z_0 satisfying equation (P(Z<Z_0) = 0.95) is 1.6448536269514722\n",
            "Value of Z_0 satisfying equation (P(Z<Z_0) = 0.99) is 2.3263478740408408\n",
            "Value of Z_0 satisfying equation (P(|Z|<Z_0) = 0.90) is 1.6448536269514722\n",
            "Value of Z_0 satisfying equation (P(|Z|<Z_0) = 0.95) is 1.959963984540054\n",
            "Value of Z_0 satisfying equation (P(|Z|<Z_0) = 0.99) is 2.5758293035489004\n"
          ]
        }
      ]
    },
    {
      "cell_type": "code",
      "source": [
        "fig,ax = plt.subplots(1,1)\n",
        "mean, var, skew, kurt = norm.stats(moments = 'mvsk')\n",
        "print(mean,var,skew,kurt)\n",
        "x = np.linspace(norm.ppf(0.01), norm.ppf(0.99),100)\n",
        "ax.plot(x,norm.pdf(x),'r',lw=3,alpha =0.6,label = 'norm.pdf')"
      ],
      "metadata": {
        "colab": {
          "base_uri": "https://localhost:8080/",
          "height": 300
        },
        "id": "cCNj8_0xm8cq",
        "outputId": "b34ca196-956b-4212-c7cc-541a69d2f2f3"
      },
      "execution_count": null,
      "outputs": [
        {
          "output_type": "stream",
          "name": "stdout",
          "text": [
            "0.0 1.0 0.0 0.0\n"
          ]
        },
        {
          "output_type": "execute_result",
          "data": {
            "text/plain": [
              "[<matplotlib.lines.Line2D at 0x7facb40d1cd0>]"
            ]
          },
          "metadata": {},
          "execution_count": 10
        },
        {
          "output_type": "display_data",
          "data": {
            "image/png": "[encoded data removed]",
            "text/plain": [
              "<Figure size 432x288 with 1 Axes>"
            ]
          },
          "metadata": {
            "needs_background": "light"
          }
        }
      ]
    },
    {
      "cell_type": "code",
      "source": [
        "from scipy.stats import t\n",
        "t1 = t.cdf(1.5,20)\n",
        "print(\"With df = 20, P(t<1.5)=\",t1)\n",
        "t2 = t.sf(0.5,15)\n",
        "print(\"With df = 15, P(t>0.5)=\",t2)\n",
        "t3 = t.cdf(1.5,25)-t.cdf(-1.5,25)\n",
        "print(\"With df = 25, P(|t|<1.5)=\",t3)\n",
        "t4 = t.cdf(-0.5,35)+t.sf(0.5,35)\n",
        "print(\"With df = 35, P(|t|>0.5)=\",t4)\n",
        "t5 = t.cdf(1,42) - t.cdf(-2.2,42)\n",
        "print(\"With df = 42, P(-2.2<t<1)=\",t5)"
      ],
      "metadata": {
        "colab": {
          "base_uri": "https://localhost:8080/"
        },
        "id": "6IU3wye3nx0z",
        "outputId": "774b5dc6-8488-4f6c-a726-99e3b30216d4"
      },
      "execution_count": null,
      "outputs": [
        {
          "output_type": "stream",
          "name": "stdout",
          "text": [
            "With df = 20, P(t<1.5)= 0.9253821144153737\n",
            "With df = 15, P(t>0.5)= 0.3121650567600378\n",
            "With df = 25, P(|t|<1.5)= 0.8538615348619807\n",
            "With df = 35, P(|t|>0.5)= 0.6202043032354958\n",
            "With df = 42, P(-2.2<t<1)= 0.8218007171327162\n"
          ]
        }
      ]
    },
    {
      "cell_type": "code",
      "source": [
        "print(\"Value of t_0 satisfying equation (P(t<t_0) = 0.90) is\",t.ppf(0.9,20))\n",
        "print(\"Value of t_0 satisfying equation (P(t<t_0) = 0.95) is\",t.ppf(0.95,15))\n",
        "print(\"Value of t_0 satisfying equation (P(t<t_0) = 0.99) is\",t.ppf(0.99,25))\n",
        "print(\"Value of t_0 satisfying equation (P(|t|<t_0) = 0.90) is\",t.ppf(0.95,30))\n",
        "print(\"Value of t_0 satisfying equation (P(|t|<t_0) = 0.95) is\",t.ppf(0.975,42))\n",
        "print(\"Value of t_0 satisfying equation (P(|t|<t_0) = 0.99) is\",t.ppf(0.995,10))"
      ],
      "metadata": {
        "colab": {
          "base_uri": "https://localhost:8080/"
        },
        "id": "kpFso-FsrJYY",
        "outputId": "7027e4dc-8404-4b59-a095-410016fefe15"
      },
      "execution_count": null,
      "outputs": [
        {
          "output_type": "stream",
          "name": "stdout",
          "text": [
            "Value of t_0 satisfying equation (P(t<t_0) = 0.90) is 1.3253407069850462\n",
            "Value of t_0 satisfying equation (P(t<t_0) = 0.95) is 1.7530503556925547\n",
            "Value of t_0 satisfying equation (P(t<t_0) = 0.99) is 2.4851071754106413\n",
            "Value of t_0 satisfying equation (P(|t|<t_0) = 0.90) is 1.6972608943617378\n",
            "Value of t_0 satisfying equation (P(|t|<t_0) = 0.95) is 2.018081697095881\n",
            "Value of t_0 satisfying equation (P(|t|<t_0) = 0.99) is 3.169272667175838\n"
          ]
        }
      ]
    },
    {
      "cell_type": "code",
      "source": [
        "fig,ax=plt.subplots(1,1)\n",
        "df = 100\n",
        "mean,var,skew,kurt=t.stats(df,moments='mvsk')\n",
        "print(mean,var,skew,kurt)\n",
        "x= np.linspace(t.ppf(0.01,df),t.ppf(0.99,df),100)\n",
        "ax.plot(x,t.pdf(x,df),'r',lw=3,alpha =0.6,label = 't.pdf')"
      ],
      "metadata": {
        "colab": {
          "base_uri": "https://localhost:8080/",
          "height": 300
        },
        "id": "pPJMpEMls4FQ",
        "outputId": "27efd717-3b50-4469-9a63-acccf630a095"
      },
      "execution_count": null,
      "outputs": [
        {
          "output_type": "stream",
          "name": "stdout",
          "text": [
            "0.0 1.0204081632653061 0.0 0.0625\n"
          ]
        },
        {
          "output_type": "execute_result",
          "data": {
            "text/plain": [
              "[<matplotlib.lines.Line2D at 0x7facb3494690>]"
            ]
          },
          "metadata": {},
          "execution_count": 20
        },
        {
          "output_type": "display_data",
          "data": {
            "image/png": "[encoded data removed]",
            "text/plain": [
              "<Figure size 432x288 with 1 Axes>"
            ]
          },
          "metadata": {
            "needs_background": "light"
          }
        }
      ]
    },
    {
      "cell_type": "code",
      "source": [
        "from scipy.stats import f\n",
        "p1 = f.cdf(1.5,5,14)\n",
        "p2 = f.sf(2.5,15,14)\n",
        "p3 = f.sf(0.5,13,17) - f.sf(4.1,13,17)\n",
        "print(\"With df 5,14, P(F<1.5)=\",p1)\n",
        "print(\"With df 15,14, P(F>2.5)=\",p2)\n",
        "print(\"With df 13,17, P(0.2<F<4.1)=\",p3)"
      ],
      "metadata": {
        "colab": {
          "base_uri": "https://localhost:8080/"
        },
        "id": "IshQ1mosuEk-",
        "outputId": "57b395fd-6a2f-43fb-e751-69486caad319"
      },
      "execution_count": null,
      "outputs": [
        {
          "output_type": "stream",
          "name": "stdout",
          "text": [
            "With df 5,14, P(F<1.5)= 0.7480582329156877\n",
            "With df 15,14, P(F>2.5)= 0.047343688940604506\n",
            "With df 13,17, P(0.2<F<4.1)= 0.8911203850553827\n"
          ]
        }
      ]
    },
    {
      "cell_type": "code",
      "source": [
        "print(\"F_0 where P(F<F_0)=0.9, with df 5,14=\",f.ppf(0.9,5,14))\n",
        "print(\"F_0 where P(F<F_0)=0.95, with df 15,13=\",f.ppf(0.9,15,13))\n",
        "print(\"F_0 where P(F<F_0)=0.99, with df 25,28=\",f.ppf(0.9,25,28))"
      ],
      "metadata": {
        "colab": {
          "base_uri": "https://localhost:8080/"
        },
        "id": "IlxMNd9AvCiy",
        "outputId": "cbedc903-8586-49b4-c8ca-20a9e9795718"
      },
      "execution_count": null,
      "outputs": [
        {
          "output_type": "stream",
          "name": "stdout",
          "text": [
            "F_0 where P(F<F_0)=0.9, with df 5,14= 2.3069430514007236\n",
            "F_0 where P(F<F_0)=0.95, with df 15,13= 2.0531597666284003\n",
            "F_0 where P(F<F_0)=0.99, with df 25,28= 1.649972959506918\n"
          ]
        }
      ]
    },
    {
      "cell_type": "code",
      "source": [
        "fig,ax=plt.subplots(1,1)\n",
        "dfn,dfd = 10,15\n",
        "mean,var,skew,kurt=f.stats(dfn,dfd,moments='mvsk')\n",
        "print(mean,var,skew,kurt)\n",
        "x= np.linspace(f.ppf(0.01,dfn,dfd),f.ppf(0.99,dfn,dfd),100)\n",
        "ax.plot(x,f.pdf(x,dfn,dfd),'r',lw=3,alpha =0.6,label = 't.pdf')"
      ],
      "metadata": {
        "colab": {
          "base_uri": "https://localhost:8080/",
          "height": 300
        },
        "id": "EPKdlvD_xDkW",
        "outputId": "6a16aa5c-369a-49b8-985a-70d0fed5d66e"
      },
      "execution_count": null,
      "outputs": [
        {
          "output_type": "stream",
          "name": "stdout",
          "text": [
            "1.1538461538461537 0.556750941366326 2.268030280365984 11.634782608695652\n"
          ]
        },
        {
          "output_type": "execute_result",
          "data": {
            "text/plain": [
              "[<matplotlib.lines.Line2D at 0x7facb3450290>]"
            ]
          },
          "metadata": {},
          "execution_count": 29
        },
        {
          "output_type": "display_data",
          "data": {
            "image/png": "[encoded data removed]",
            "text/plain": [
              "<Figure size 432x288 with 1 Axes>"
            ]
          },
          "metadata": {
            "needs_background": "light"
          }
        }
      ]
    },
    {
      "cell_type": "code",
      "source": [
        "from scipy.stats import chi2\n",
        "p1= chi2.cdf(1.5,10)\n",
        "p2= chi2.sf(2.5,5)\n",
        "p3= chi2.sf(0.5,2)-chi2.sf(4.1,2)\n",
        "print(\"With df 10, P(X<1.5)=\",p1)\n",
        "print(\"With df 5, P(X>2.5)=\",p2)\n",
        "print(\"With df 2, P(0.5<X<4.1)=\",p3)\n"
      ],
      "metadata": {
        "colab": {
          "base_uri": "https://localhost:8080/"
        },
        "id": "FzZnMpLZxcxX",
        "outputId": "c32ebbdb-7a66-40e8-cfa2-d349bc3d7d36"
      },
      "execution_count": null,
      "outputs": [
        {
          "output_type": "stream",
          "name": "stdout",
          "text": [
            "With df 10, P(X<1.5)= 0.0010646777727857928\n",
            "With df 5, P(X>2.5)= 0.7764950711233227\n",
            "With df 2, P(0.5<X<4.1)= 0.6500658794836006\n"
          ]
        }
      ]
    },
    {
      "cell_type": "code",
      "source": [
        "print(\"X_0 where P(X<X_0)=0.90, with df 1=\",chi2.ppf(0.90,1))\n",
        "print(\"X_0 where P(X<X_0)=0.95, with df 1=\",chi2.ppf(0.95,3))\n",
        "print(\"X_0 where P(X<X_0)=0.99, with df 1=\",chi2.ppf(0.99,2))\n",
        "print(\"X_0 where P(X<X_0)=0.05, with df 1=\",chi2.ppf(0.05,1))\n",
        "print(\"X_0 where P(X<X_0)=0.025, with df 1=\",chi2.ppf(0.025,2))\n",
        "print(\"X_0 where P(X<X_0)=0.005, with df 1=\",chi2.ppf(0.005,3))"
      ],
      "metadata": {
        "colab": {
          "base_uri": "https://localhost:8080/"
        },
        "id": "4cDP77IQyxSq",
        "outputId": "323640fc-f53b-4a18-8cb2-24c5624dd83e"
      },
      "execution_count": null,
      "outputs": [
        {
          "output_type": "stream",
          "name": "stdout",
          "text": [
            "X_0 where P(X<X_0)=0.90, with df 1= 2.705543454095404\n",
            "X_0 where P(X<X_0)=0.95, with df 1= 7.814727903251179\n",
            "X_0 where P(X<X_0)=0.99, with df 1= 9.21034037197618\n",
            "X_0 where P(X<X_0)=0.05, with df 1= 0.003932140000019522\n",
            "X_0 where P(X<X_0)=0.025, with df 1= 0.05063561596857975\n",
            "X_0 where P(X<X_0)=0.005, with df 1= 0.07172177458649197\n"
          ]
        }
      ]
    },
    {
      "cell_type": "code",
      "source": [
        "fig,ax=plt.subplots(1,1)\n",
        "df = 2\n",
        "mean,var,skew,kurt=chi2.stats(df,moments='mvsk')\n",
        "print(mean,var,skew,kurt)\n",
        "x= np.linspace(chi2.ppf(0.01,df),chi2.ppf(0.99,df),100)\n",
        "ax.plot(x,chi2.pdf(x,df),'r',lw=3,alpha =0.6,label = 'chi2 pdf')"
      ],
      "metadata": {
        "colab": {
          "base_uri": "https://localhost:8080/",
          "height": 300
        },
        "id": "xggkczDp1MxN",
        "outputId": "a1129e3d-2cd1-45bc-ab64-069f913c1d3e"
      },
      "execution_count": null,
      "outputs": [
        {
          "output_type": "stream",
          "name": "stdout",
          "text": [
            "2.0 4.0 2.0 6.0\n"
          ]
        },
        {
          "output_type": "execute_result",
          "data": {
            "text/plain": [
              "[<matplotlib.lines.Line2D at 0x7facb338a450>]"
            ]
          },
          "metadata": {},
          "execution_count": 37
        },
        {
          "output_type": "display_data",
          "data": {
            "image/png": "[encoded data removed]",
            "text/plain": [
              "<Figure size 432x288 with 1 Axes>"
            ]
          },
          "metadata": {
            "needs_background": "light"
          }
        }
      ]
    },
    {
      "cell_type": "code",
      "source": [
        "s_m,pop_sd,n,alpha=101.82,1.2,6,0.05\n",
        "z_0=norm.ppf(0.975)\n",
        "conf_interval =(s_m - z_0*(pop_sd/math.sqrt(n)),s_m + z_0*(pop_sd/math.sqrt(n)))\n",
        "print(\"Confidence Interval =\",conf_interval)"
      ],
      "metadata": {
        "colab": {
          "base_uri": "https://localhost:8080/"
        },
        "id": "zJp1ncYe2hIQ",
        "outputId": "b5002572-631e-49de-ae5d-d56aa5e2ae39"
      },
      "execution_count": null,
      "outputs": [
        {
          "output_type": "stream",
          "name": "stdout",
          "text": [
            "Confidence Interval = (100.85981766472894, 102.78018233527105)\n"
          ]
        }
      ]
    },
    {
      "cell_type": "code",
      "source": [
        "from scipy.stats import t\n",
        "data = [45,55,67,45,68,79,98,87,84,82]\n",
        "s_m = st.mean(data)\n",
        "s_sd = st.stdev(data)\n",
        "n = len(data)\n",
        "alpha =0.02\n",
        "t_0= t.ppf(0.99,n-1)\n",
        "conf_int=(s_m - t_0*s_sd/math.sqrt(n),s_m + t_0*(s_sd/math.sqrt(n)))\n",
        "print(\"98% Confidence Interval for population mean=\",conf_int)"
      ],
      "metadata": {
        "colab": {
          "base_uri": "https://localhost:8080/"
        },
        "id": "UyQ4-Evj4z9D",
        "outputId": "c9b9d55b-b364-4cd4-8310-b0731ee59709"
      },
      "execution_count": null,
      "outputs": [
        {
          "output_type": "stream",
          "name": "stdout",
          "text": [
            "98% Confidence Interval for population mean= (54.78661680024991, 87.2133831997501)\n"
          ]
        }
      ]
    },
    {
      "cell_type": "code",
      "source": [
        "n,ph,alpha = 510,57/n,0.1\n",
        "qh = 1-ph\n",
        "Z_0 = norm.ppf(0.95)\n",
        "conf_int=(ph - Z_0*math.sqrt(ph*qh/n), ph + Z_0*math.sqrt(ph*qh/n))\n",
        "print(\"90% Confidence interval of true proportion of men applied to program=\",conf_int)"
      ],
      "metadata": {
        "colab": {
          "base_uri": "https://localhost:8080/"
        },
        "id": "TshNLykH6mej",
        "outputId": "15f05427-e813-442b-f669-c0a77aca846f"
      },
      "execution_count": null,
      "outputs": [
        {
          "output_type": "stream",
          "name": "stdout",
          "text": [
            "90% Confidence interval of true proportion of men applied to program= (0.08881598300884237, 0.13471342875586353)\n"
          ]
        }
      ]
    }
  ]
}